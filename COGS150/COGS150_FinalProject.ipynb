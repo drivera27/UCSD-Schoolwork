{
  "nbformat": 4,
  "nbformat_minor": 0,
  "metadata": {
    "colab": {
      "provenance": []
    },
    "kernelspec": {
      "name": "python3",
      "display_name": "Python 3"
    },
    "language_info": {
      "name": "python"
    }
  },
  "cells": [
    {
      "cell_type": "markdown",
      "source": [
        "# COGS 150 Final Project\n",
        "\n",
        "SP25\n",
        "\n",
        "Danny Rivera\n",
        "\n",
        "A16906333"
      ],
      "metadata": {
        "id": "3P3Ns1Alwv7l"
      }
    },
    {
      "cell_type": "code",
      "source": [
        "%pip install transformers"
      ],
      "metadata": {
        "colab": {
          "base_uri": "https://localhost:8080/"
        },
        "id": "Reyu8NmENQ6v",
        "outputId": "e761b255-8693-4875-acdb-45e656f2fb62"
      },
      "execution_count": 1,
      "outputs": [
        {
          "output_type": "stream",
          "name": "stdout",
          "text": [
            "Requirement already satisfied: transformers in /usr/local/lib/python3.11/dist-packages (4.52.4)\n",
            "Requirement already satisfied: filelock in /usr/local/lib/python3.11/dist-packages (from transformers) (3.18.0)\n",
            "Requirement already satisfied: huggingface-hub<1.0,>=0.30.0 in /usr/local/lib/python3.11/dist-packages (from transformers) (0.32.4)\n",
            "Requirement already satisfied: numpy>=1.17 in /usr/local/lib/python3.11/dist-packages (from transformers) (2.0.2)\n",
            "Requirement already satisfied: packaging>=20.0 in /usr/local/lib/python3.11/dist-packages (from transformers) (24.2)\n",
            "Requirement already satisfied: pyyaml>=5.1 in /usr/local/lib/python3.11/dist-packages (from transformers) (6.0.2)\n",
            "Requirement already satisfied: regex!=2019.12.17 in /usr/local/lib/python3.11/dist-packages (from transformers) (2024.11.6)\n",
            "Requirement already satisfied: requests in /usr/local/lib/python3.11/dist-packages (from transformers) (2.32.3)\n",
            "Requirement already satisfied: tokenizers<0.22,>=0.21 in /usr/local/lib/python3.11/dist-packages (from transformers) (0.21.1)\n",
            "Requirement already satisfied: safetensors>=0.4.3 in /usr/local/lib/python3.11/dist-packages (from transformers) (0.5.3)\n",
            "Requirement already satisfied: tqdm>=4.27 in /usr/local/lib/python3.11/dist-packages (from transformers) (4.67.1)\n",
            "Requirement already satisfied: fsspec>=2023.5.0 in /usr/local/lib/python3.11/dist-packages (from huggingface-hub<1.0,>=0.30.0->transformers) (2025.3.2)\n",
            "Requirement already satisfied: typing-extensions>=3.7.4.3 in /usr/local/lib/python3.11/dist-packages (from huggingface-hub<1.0,>=0.30.0->transformers) (4.14.0)\n",
            "Requirement already satisfied: hf-xet<2.0.0,>=1.1.2 in /usr/local/lib/python3.11/dist-packages (from huggingface-hub<1.0,>=0.30.0->transformers) (1.1.2)\n",
            "Requirement already satisfied: charset-normalizer<4,>=2 in /usr/local/lib/python3.11/dist-packages (from requests->transformers) (3.4.2)\n",
            "Requirement already satisfied: idna<4,>=2.5 in /usr/local/lib/python3.11/dist-packages (from requests->transformers) (3.10)\n",
            "Requirement already satisfied: urllib3<3,>=1.21.1 in /usr/local/lib/python3.11/dist-packages (from requests->transformers) (2.4.0)\n",
            "Requirement already satisfied: certifi>=2017.4.17 in /usr/local/lib/python3.11/dist-packages (from requests->transformers) (2025.4.26)\n"
          ]
        }
      ]
    },
    {
      "cell_type": "code",
      "source": [
        "import pandas as pd\n",
        "import matplotlib.pyplot as plt\n",
        "import seaborn as sns\n",
        "import numpy as np\n",
        "import torch\n",
        "from tqdm import tqdm\n",
        "import transformers\n",
        "from transformers import AutoTokenizer"
      ],
      "metadata": {
        "id": "akQZz4fCNOLr"
      },
      "execution_count": 2,
      "outputs": []
    },
    {
      "cell_type": "code",
      "source": [
        "%matplotlib inline\n",
        "%config InlineBackend.figure_format = 'retina'"
      ],
      "metadata": {
        "id": "P0F7BnmINTLP"
      },
      "execution_count": 3,
      "outputs": []
    },
    {
      "cell_type": "markdown",
      "source": [
        "## Introduction"
      ],
      "metadata": {
        "id": "xnYoe7njBBAc"
      }
    },
    {
      "cell_type": "markdown",
      "source": [
        "For my final project, I thought it would be interesting to create a project similar to the work done in Lab 2, where we evaluated whether an LLM was sensitive to certain stimuli using minimal pairs, with conditions for both grammatical and agrammatical words. For my research question, I will be evaluating the following:\n",
        "\n",
        "> Are LLMs sensitive to double-negatives?\n",
        "\n",
        "I thought it would be interesting to study double-negatives specifically, since while they are technically grammatically incorrect, they are used often in informal language, and are a common feature in certain dialects.\n",
        "\n",
        "Because of this, surprisal results could have different implications. High surprisal results for sentences with double-negatives could indicate that the model has learned this grammatical rule, and *is* sensitive to the stimuli. However, it could also mean that the model has not understood double-negatives as a commonly-used feature of English language, and that they are underrepresented in a model's training data. Likewise, low surprisal could indicate either that the model has not learned this grammatical rule, or that it recognizes it as a common form of speech. The ambiguity and implications of these potential results are what motivated me to study double-negatives in particular."
      ],
      "metadata": {
        "id": "_tJ55IfeBHk0"
      }
    },
    {
      "cell_type": "markdown",
      "source": [
        "## Stimuli"
      ],
      "metadata": {
        "id": "MoGuSuCeIm2x"
      }
    },
    {
      "cell_type": "markdown",
      "source": [
        "### Description"
      ],
      "metadata": {
        "id": "x9omiEjYhhwC"
      }
    },
    {
      "cell_type": "markdown",
      "source": [
        "I created 10 minimal pairs, which feature one grammatically correct sentence and one grammatically incorrect sentence featuring a double-negative clause, for a total of 20 items. These will be categorized under two separate conditions; `Grammatical` and `Agrammatical`.\n",
        "\n",
        "For example, one minimal pair uses the sentence clause \"I didn't see\", where an expected, grammatically correct word could be \"anyone\", while the double-negative \"no one\" could be used here as well."
      ],
      "metadata": {
        "id": "dJA6xEQYhjLl"
      }
    },
    {
      "cell_type": "code",
      "source": [
        "# list of 10 minimal pairs\n",
        "stimuli = [\n",
        "    (\"I didn't see\", \" anyone\", \"Grammatical\"),\n",
        "    (\"I didn't see\", \" no one\", \"Agrammatical\"),\n",
        "    (\"You don't know\", \" anything\", \"Grammatical\"),\n",
        "    (\"You don't know\", \" nothing\", \"Agrammatical\"),\n",
        "    (\"We can't go\", \" anywhere\", \"Grammatical\"),\n",
        "    (\"We can't go\", \" nowhere\", \"Agrammatical\"),\n",
        "    (\"She doesn't want it\", \" anymore\", \"Grammatical\"),\n",
        "    (\"She doesn't want it\", \" no more\", \"Agrammatical\"),\n",
        "    (\"We didn't tell\", \" anybody\", \"Grammatical\"),\n",
        "    (\"We didn't tell\", \" nobody\", \"Agrammatical\"),\n",
        "    (\"It won't do you\", \" any good\", \"Grammatical\"),\n",
        "    (\"It won't do you\", \" no good\", \"Agrammatical\"),\n",
        "    (\"I haven't got\", \" any time\", \"Grammatical\"),\n",
        "    (\"I haven't got\", \" no time\", \"Agrammatical\"),\n",
        "    (\"He doesn't have\", \" any idea\", \"Grammatical\"),\n",
        "    (\"He doesn't have\", \" no idea\", \"Agrammatical\"),\n",
        "    (\"They haven't been of\", \" any help\", \"Grammatical\"),\n",
        "    (\"They haven't been of\", \" no help\", \"Agrammatical\"),\n",
        "    (\"I don't want\", \" any other\", \"Grammatical\"),\n",
        "    (\"I don't want\", \" no other\", \"Agrammatical\")\n",
        "]"
      ],
      "metadata": {
        "id": "PNOW4EPMMDy2"
      },
      "execution_count": 4,
      "outputs": []
    },
    {
      "cell_type": "code",
      "source": [
        "# create a DataFrame with each minimal pair, item, and condition\n",
        "df_stimuli = pd.DataFrame(stimuli, columns = ['Sentence', 'Word', 'Condition'])\n",
        "\n",
        "# limit to 6 rows for readability\n",
        "df_stimuli.head(6)"
      ],
      "metadata": {
        "colab": {
          "base_uri": "https://localhost:8080/",
          "height": 237
        },
        "id": "lklKqRgR4D_1",
        "outputId": "28920d6f-5bbd-41ba-d58f-03bda01e08da"
      },
      "execution_count": 5,
      "outputs": [
        {
          "output_type": "execute_result",
          "data": {
            "text/plain": [
              "         Sentence       Word     Condition\n",
              "0    I didn't see     anyone   Grammatical\n",
              "1    I didn't see     no one  Agrammatical\n",
              "2  You don't know   anything   Grammatical\n",
              "3  You don't know    nothing  Agrammatical\n",
              "4     We can't go   anywhere   Grammatical\n",
              "5     We can't go    nowhere  Agrammatical"
            ],
            "text/html": [
              "\n",
              "  <div id=\"df-e67ab646-bc07-484d-a271-a76f98cbe228\" class=\"colab-df-container\">\n",
              "    <div>\n",
              "<style scoped>\n",
              "    .dataframe tbody tr th:only-of-type {\n",
              "        vertical-align: middle;\n",
              "    }\n",
              "\n",
              "    .dataframe tbody tr th {\n",
              "        vertical-align: top;\n",
              "    }\n",
              "\n",
              "    .dataframe thead th {\n",
              "        text-align: right;\n",
              "    }\n",
              "</style>\n",
              "<table border=\"1\" class=\"dataframe\">\n",
              "  <thead>\n",
              "    <tr style=\"text-align: right;\">\n",
              "      <th></th>\n",
              "      <th>Sentence</th>\n",
              "      <th>Word</th>\n",
              "      <th>Condition</th>\n",
              "    </tr>\n",
              "  </thead>\n",
              "  <tbody>\n",
              "    <tr>\n",
              "      <th>0</th>\n",
              "      <td>I didn't see</td>\n",
              "      <td>anyone</td>\n",
              "      <td>Grammatical</td>\n",
              "    </tr>\n",
              "    <tr>\n",
              "      <th>1</th>\n",
              "      <td>I didn't see</td>\n",
              "      <td>no one</td>\n",
              "      <td>Agrammatical</td>\n",
              "    </tr>\n",
              "    <tr>\n",
              "      <th>2</th>\n",
              "      <td>You don't know</td>\n",
              "      <td>anything</td>\n",
              "      <td>Grammatical</td>\n",
              "    </tr>\n",
              "    <tr>\n",
              "      <th>3</th>\n",
              "      <td>You don't know</td>\n",
              "      <td>nothing</td>\n",
              "      <td>Agrammatical</td>\n",
              "    </tr>\n",
              "    <tr>\n",
              "      <th>4</th>\n",
              "      <td>We can't go</td>\n",
              "      <td>anywhere</td>\n",
              "      <td>Grammatical</td>\n",
              "    </tr>\n",
              "    <tr>\n",
              "      <th>5</th>\n",
              "      <td>We can't go</td>\n",
              "      <td>nowhere</td>\n",
              "      <td>Agrammatical</td>\n",
              "    </tr>\n",
              "  </tbody>\n",
              "</table>\n",
              "</div>\n",
              "    <div class=\"colab-df-buttons\">\n",
              "\n",
              "  <div class=\"colab-df-container\">\n",
              "    <button class=\"colab-df-convert\" onclick=\"convertToInteractive('df-e67ab646-bc07-484d-a271-a76f98cbe228')\"\n",
              "            title=\"Convert this dataframe to an interactive table.\"\n",
              "            style=\"display:none;\">\n",
              "\n",
              "  <svg xmlns=\"http://www.w3.org/2000/svg\" height=\"24px\" viewBox=\"0 -960 960 960\">\n",
              "    <path d=\"M120-120v-720h720v720H120Zm60-500h600v-160H180v160Zm220 220h160v-160H400v160Zm0 220h160v-160H400v160ZM180-400h160v-160H180v160Zm440 0h160v-160H620v160ZM180-180h160v-160H180v160Zm440 0h160v-160H620v160Z\"/>\n",
              "  </svg>\n",
              "    </button>\n",
              "\n",
              "  <style>\n",
              "    .colab-df-container {\n",
              "      display:flex;\n",
              "      gap: 12px;\n",
              "    }\n",
              "\n",
              "    .colab-df-convert {\n",
              "      background-color: #E8F0FE;\n",
              "      border: none;\n",
              "      border-radius: 50%;\n",
              "      cursor: pointer;\n",
              "      display: none;\n",
              "      fill: #1967D2;\n",
              "      height: 32px;\n",
              "      padding: 0 0 0 0;\n",
              "      width: 32px;\n",
              "    }\n",
              "\n",
              "    .colab-df-convert:hover {\n",
              "      background-color: #E2EBFA;\n",
              "      box-shadow: 0px 1px 2px rgba(60, 64, 67, 0.3), 0px 1px 3px 1px rgba(60, 64, 67, 0.15);\n",
              "      fill: #174EA6;\n",
              "    }\n",
              "\n",
              "    .colab-df-buttons div {\n",
              "      margin-bottom: 4px;\n",
              "    }\n",
              "\n",
              "    [theme=dark] .colab-df-convert {\n",
              "      background-color: #3B4455;\n",
              "      fill: #D2E3FC;\n",
              "    }\n",
              "\n",
              "    [theme=dark] .colab-df-convert:hover {\n",
              "      background-color: #434B5C;\n",
              "      box-shadow: 0px 1px 3px 1px rgba(0, 0, 0, 0.15);\n",
              "      filter: drop-shadow(0px 1px 2px rgba(0, 0, 0, 0.3));\n",
              "      fill: #FFFFFF;\n",
              "    }\n",
              "  </style>\n",
              "\n",
              "    <script>\n",
              "      const buttonEl =\n",
              "        document.querySelector('#df-e67ab646-bc07-484d-a271-a76f98cbe228 button.colab-df-convert');\n",
              "      buttonEl.style.display =\n",
              "        google.colab.kernel.accessAllowed ? 'block' : 'none';\n",
              "\n",
              "      async function convertToInteractive(key) {\n",
              "        const element = document.querySelector('#df-e67ab646-bc07-484d-a271-a76f98cbe228');\n",
              "        const dataTable =\n",
              "          await google.colab.kernel.invokeFunction('convertToInteractive',\n",
              "                                                    [key], {});\n",
              "        if (!dataTable) return;\n",
              "\n",
              "        const docLinkHtml = 'Like what you see? Visit the ' +\n",
              "          '<a target=\"_blank\" href=https://colab.research.google.com/notebooks/data_table.ipynb>data table notebook</a>'\n",
              "          + ' to learn more about interactive tables.';\n",
              "        element.innerHTML = '';\n",
              "        dataTable['output_type'] = 'display_data';\n",
              "        await google.colab.output.renderOutput(dataTable, element);\n",
              "        const docLink = document.createElement('div');\n",
              "        docLink.innerHTML = docLinkHtml;\n",
              "        element.appendChild(docLink);\n",
              "      }\n",
              "    </script>\n",
              "  </div>\n",
              "\n",
              "\n",
              "    <div id=\"df-5621e84d-8a51-41e7-a7e0-72c9ff589dd8\">\n",
              "      <button class=\"colab-df-quickchart\" onclick=\"quickchart('df-5621e84d-8a51-41e7-a7e0-72c9ff589dd8')\"\n",
              "                title=\"Suggest charts\"\n",
              "                style=\"display:none;\">\n",
              "\n",
              "<svg xmlns=\"http://www.w3.org/2000/svg\" height=\"24px\"viewBox=\"0 0 24 24\"\n",
              "     width=\"24px\">\n",
              "    <g>\n",
              "        <path d=\"M19 3H5c-1.1 0-2 .9-2 2v14c0 1.1.9 2 2 2h14c1.1 0 2-.9 2-2V5c0-1.1-.9-2-2-2zM9 17H7v-7h2v7zm4 0h-2V7h2v10zm4 0h-2v-4h2v4z\"/>\n",
              "    </g>\n",
              "</svg>\n",
              "      </button>\n",
              "\n",
              "<style>\n",
              "  .colab-df-quickchart {\n",
              "      --bg-color: #E8F0FE;\n",
              "      --fill-color: #1967D2;\n",
              "      --hover-bg-color: #E2EBFA;\n",
              "      --hover-fill-color: #174EA6;\n",
              "      --disabled-fill-color: #AAA;\n",
              "      --disabled-bg-color: #DDD;\n",
              "  }\n",
              "\n",
              "  [theme=dark] .colab-df-quickchart {\n",
              "      --bg-color: #3B4455;\n",
              "      --fill-color: #D2E3FC;\n",
              "      --hover-bg-color: #434B5C;\n",
              "      --hover-fill-color: #FFFFFF;\n",
              "      --disabled-bg-color: #3B4455;\n",
              "      --disabled-fill-color: #666;\n",
              "  }\n",
              "\n",
              "  .colab-df-quickchart {\n",
              "    background-color: var(--bg-color);\n",
              "    border: none;\n",
              "    border-radius: 50%;\n",
              "    cursor: pointer;\n",
              "    display: none;\n",
              "    fill: var(--fill-color);\n",
              "    height: 32px;\n",
              "    padding: 0;\n",
              "    width: 32px;\n",
              "  }\n",
              "\n",
              "  .colab-df-quickchart:hover {\n",
              "    background-color: var(--hover-bg-color);\n",
              "    box-shadow: 0 1px 2px rgba(60, 64, 67, 0.3), 0 1px 3px 1px rgba(60, 64, 67, 0.15);\n",
              "    fill: var(--button-hover-fill-color);\n",
              "  }\n",
              "\n",
              "  .colab-df-quickchart-complete:disabled,\n",
              "  .colab-df-quickchart-complete:disabled:hover {\n",
              "    background-color: var(--disabled-bg-color);\n",
              "    fill: var(--disabled-fill-color);\n",
              "    box-shadow: none;\n",
              "  }\n",
              "\n",
              "  .colab-df-spinner {\n",
              "    border: 2px solid var(--fill-color);\n",
              "    border-color: transparent;\n",
              "    border-bottom-color: var(--fill-color);\n",
              "    animation:\n",
              "      spin 1s steps(1) infinite;\n",
              "  }\n",
              "\n",
              "  @keyframes spin {\n",
              "    0% {\n",
              "      border-color: transparent;\n",
              "      border-bottom-color: var(--fill-color);\n",
              "      border-left-color: var(--fill-color);\n",
              "    }\n",
              "    20% {\n",
              "      border-color: transparent;\n",
              "      border-left-color: var(--fill-color);\n",
              "      border-top-color: var(--fill-color);\n",
              "    }\n",
              "    30% {\n",
              "      border-color: transparent;\n",
              "      border-left-color: var(--fill-color);\n",
              "      border-top-color: var(--fill-color);\n",
              "      border-right-color: var(--fill-color);\n",
              "    }\n",
              "    40% {\n",
              "      border-color: transparent;\n",
              "      border-right-color: var(--fill-color);\n",
              "      border-top-color: var(--fill-color);\n",
              "    }\n",
              "    60% {\n",
              "      border-color: transparent;\n",
              "      border-right-color: var(--fill-color);\n",
              "    }\n",
              "    80% {\n",
              "      border-color: transparent;\n",
              "      border-right-color: var(--fill-color);\n",
              "      border-bottom-color: var(--fill-color);\n",
              "    }\n",
              "    90% {\n",
              "      border-color: transparent;\n",
              "      border-bottom-color: var(--fill-color);\n",
              "    }\n",
              "  }\n",
              "</style>\n",
              "\n",
              "      <script>\n",
              "        async function quickchart(key) {\n",
              "          const quickchartButtonEl =\n",
              "            document.querySelector('#' + key + ' button');\n",
              "          quickchartButtonEl.disabled = true;  // To prevent multiple clicks.\n",
              "          quickchartButtonEl.classList.add('colab-df-spinner');\n",
              "          try {\n",
              "            const charts = await google.colab.kernel.invokeFunction(\n",
              "                'suggestCharts', [key], {});\n",
              "          } catch (error) {\n",
              "            console.error('Error during call to suggestCharts:', error);\n",
              "          }\n",
              "          quickchartButtonEl.classList.remove('colab-df-spinner');\n",
              "          quickchartButtonEl.classList.add('colab-df-quickchart-complete');\n",
              "        }\n",
              "        (() => {\n",
              "          let quickchartButtonEl =\n",
              "            document.querySelector('#df-5621e84d-8a51-41e7-a7e0-72c9ff589dd8 button');\n",
              "          quickchartButtonEl.style.display =\n",
              "            google.colab.kernel.accessAllowed ? 'block' : 'none';\n",
              "        })();\n",
              "      </script>\n",
              "    </div>\n",
              "\n",
              "    </div>\n",
              "  </div>\n"
            ],
            "application/vnd.google.colaboratory.intrinsic+json": {
              "type": "dataframe",
              "variable_name": "df_stimuli",
              "summary": "{\n  \"name\": \"df_stimuli\",\n  \"rows\": 20,\n  \"fields\": [\n    {\n      \"column\": \"Sentence\",\n      \"properties\": {\n        \"dtype\": \"string\",\n        \"num_unique_values\": 10,\n        \"samples\": [\n          \"They haven't been of\",\n          \"You don't know\",\n          \"It won't do you\"\n        ],\n        \"semantic_type\": \"\",\n        \"description\": \"\"\n      }\n    },\n    {\n      \"column\": \"Word\",\n      \"properties\": {\n        \"dtype\": \"string\",\n        \"num_unique_values\": 20,\n        \"samples\": [\n          \" anyone\",\n          \" no help\",\n          \" no idea\"\n        ],\n        \"semantic_type\": \"\",\n        \"description\": \"\"\n      }\n    },\n    {\n      \"column\": \"Condition\",\n      \"properties\": {\n        \"dtype\": \"category\",\n        \"num_unique_values\": 2,\n        \"samples\": [\n          \"Agrammatical\",\n          \"Grammatical\"\n        ],\n        \"semantic_type\": \"\",\n        \"description\": \"\"\n      }\n    }\n  ]\n}"
            }
          },
          "metadata": {},
          "execution_count": 5
        }
      ]
    },
    {
      "cell_type": "markdown",
      "source": [
        "### Discussion of limitations of stimuli"
      ],
      "metadata": {
        "id": "Y7KHttb4hona"
      }
    },
    {
      "cell_type": "markdown",
      "source": [
        "I created sentences that vary not only in the statement used, but that also vary in pronouns, verbs, and so on. I did this to try and ensure that my stimuli were representative of different types of commonly used words, since using repeated words could skew surprisal results. However, it is a well-known fact that humans aren't very good at randomization, or accounting for each possible factor, so it is very likely that my sentences still may be underrepresentative of common language. Also, LLMs have been known to encode gender biases, so using sentences with certain pronouns here like \"she\" or \"he\" may be involuntarily playing into gender stereotypes found in both human language and LLMs, and could lead to inaccurate results. Lastly, a total of 10 minimal pairs is an extremely small set of test stimuli, especially when comparing it to the large amount of data LLMs like GPT-2 are trained and evaluated on, so results could prove to be insignificant."
      ],
      "metadata": {
        "id": "-S_VfgKji9kR"
      }
    },
    {
      "cell_type": "markdown",
      "source": [
        "## Code"
      ],
      "metadata": {
        "id": "lNLlOJLENjv3"
      }
    },
    {
      "cell_type": "markdown",
      "source": [
        "### Loading Tokenizer and Model"
      ],
      "metadata": {
        "id": "49BDdVS0Nxug"
      }
    },
    {
      "cell_type": "markdown",
      "source": [
        "First, I will load the tokenizer and the model I will be evaluating, which is GPT-2. It is worth noting that GPT-2 may now be outdated compared to newer transformer models GPT-4, which use a much larger training dataset and have more parameters. Therefore, the type of model used here may be another limitation to this project."
      ],
      "metadata": {
        "id": "n7Mmn7imzeZN"
      }
    },
    {
      "cell_type": "code",
      "source": [
        "tokenizer = AutoTokenizer.from_pretrained('gpt2')"
      ],
      "metadata": {
        "colab": {
          "base_uri": "https://localhost:8080/"
        },
        "id": "C9G1K8-RTDsy",
        "outputId": "cacf6c30-8bea-4c23-f70a-6df93965dd10"
      },
      "execution_count": 6,
      "outputs": [
        {
          "output_type": "stream",
          "name": "stderr",
          "text": [
            "/usr/local/lib/python3.11/dist-packages/huggingface_hub/utils/_auth.py:94: UserWarning: \n",
            "The secret `HF_TOKEN` does not exist in your Colab secrets.\n",
            "To authenticate with the Hugging Face Hub, create a token in your settings tab (https://huggingface.co/settings/tokens), set it as secret in your Google Colab and restart your session.\n",
            "You will be able to reuse this secret in all of your notebooks.\n",
            "Please note that authentication is recommended but still optional to access public models or datasets.\n",
            "  warnings.warn(\n"
          ]
        }
      ]
    },
    {
      "cell_type": "code",
      "source": [
        "gpt2 = transformers.AutoModelForCausalLM.from_pretrained('gpt2')\n",
        "gpt2.eval() # evaluation mode rather than training"
      ],
      "metadata": {
        "id": "vXNK50PixFrJ",
        "colab": {
          "base_uri": "https://localhost:8080/"
        },
        "outputId": "89932e6b-c53e-4b13-f3b4-c351cbddba74"
      },
      "execution_count": 7,
      "outputs": [
        {
          "output_type": "execute_result",
          "data": {
            "text/plain": [
              "GPT2LMHeadModel(\n",
              "  (transformer): GPT2Model(\n",
              "    (wte): Embedding(50257, 768)\n",
              "    (wpe): Embedding(1024, 768)\n",
              "    (drop): Dropout(p=0.1, inplace=False)\n",
              "    (h): ModuleList(\n",
              "      (0-11): 12 x GPT2Block(\n",
              "        (ln_1): LayerNorm((768,), eps=1e-05, elementwise_affine=True)\n",
              "        (attn): GPT2Attention(\n",
              "          (c_attn): Conv1D(nf=2304, nx=768)\n",
              "          (c_proj): Conv1D(nf=768, nx=768)\n",
              "          (attn_dropout): Dropout(p=0.1, inplace=False)\n",
              "          (resid_dropout): Dropout(p=0.1, inplace=False)\n",
              "        )\n",
              "        (ln_2): LayerNorm((768,), eps=1e-05, elementwise_affine=True)\n",
              "        (mlp): GPT2MLP(\n",
              "          (c_fc): Conv1D(nf=3072, nx=768)\n",
              "          (c_proj): Conv1D(nf=768, nx=3072)\n",
              "          (act): NewGELUActivation()\n",
              "          (dropout): Dropout(p=0.1, inplace=False)\n",
              "        )\n",
              "      )\n",
              "    )\n",
              "    (ln_f): LayerNorm((768,), eps=1e-05, elementwise_affine=True)\n",
              "  )\n",
              "  (lm_head): Linear(in_features=768, out_features=50257, bias=False)\n",
              ")"
            ]
          },
          "metadata": {},
          "execution_count": 7
        }
      ]
    },
    {
      "cell_type": "markdown",
      "source": [
        "### Creating a function to run through each minimal pair"
      ],
      "metadata": {
        "id": "nov6pwxiwxA9"
      }
    },
    {
      "cell_type": "markdown",
      "source": [
        "I will now use a function to calculate probability for a certain word, which will then be used to run through each minimal pair and its two items, the grammatical and agrammatical words. The code for the function below was taken from Lab 2."
      ],
      "metadata": {
        "id": "FGtIFp3V0IYV"
      }
    },
    {
      "cell_type": "code",
      "source": [
        "def next_seq_prob(model, tokenizer, seen, unseen):\n",
        "  '''Get p(unseen | seen)\n",
        "\n",
        "  Parameters\n",
        "  ----------\n",
        "  model : transformers.PreTrainedModel\n",
        "      Model to use for predicting tokens\n",
        "  tokenizer : transformers.PreTrainedTokenizer\n",
        "      Tokenizer for Model\n",
        "  seen : str\n",
        "      Input sequence\n",
        "  unseen: str\n",
        "      The sequence for which to calculate a probability\n",
        "  '''\n",
        "\n",
        "  # get IDs for tokens\n",
        "  input_ids = tokenizer.encode(seen, return_tensors='pt')\n",
        "  unseen_ids = tokenizer.encode(unseen)\n",
        "\n",
        "  # loop through unseen tokens, store log probs\n",
        "  log_probs = []\n",
        "\n",
        "  for unseen_id in unseen_ids:\n",
        "\n",
        "    # run model on input\n",
        "    with torch.no_grad():\n",
        "      logits = model(input_ids).logits\n",
        "\n",
        "    # get next token prediction logits\n",
        "    next_token_logits = logits[0, -1]\n",
        "    next_token_probs = torch.softmax(next_token_logits, 0) # normalize\n",
        "\n",
        "    # get probability for relevant token in unseen string & store\n",
        "    prob = next_token_probs[unseen_id]\n",
        "    log_probs.append(torch.log(prob))\n",
        "\n",
        "    # add input tokens incrementally to input\n",
        "    input_ids = torch.cat((input_ids, torch.tensor([[unseen_id]])), 1)\n",
        "\n",
        "  # add log probs together to get total log probability of sequence\n",
        "  total_log_prob = sum(log_probs)\n",
        "\n",
        "  # exponentiate to return to probabilities\n",
        "  total_prob = torch.exp(total_log_prob)\n",
        "\n",
        "  return total_prob.item()"
      ],
      "metadata": {
        "id": "kC3kANw2wwB9"
      },
      "execution_count": 8,
      "outputs": []
    },
    {
      "cell_type": "markdown",
      "source": [
        "### Obtaining surprisal for each minimal pair and item"
      ],
      "metadata": {
        "id": "ULXYrL55O97j"
      }
    },
    {
      "cell_type": "markdown",
      "source": [
        "After creating the function above, I will create a list `results` that will hold the results from each minimal pair that is analyzed through the model, including the word, its condition (either `Grammatical` for non-double-negatives or `Agrammatical` for double-negatives), its probability, and its surprisal. I will then format these results into a Pandas DataFrame, to allow for later visualization and analysis."
      ],
      "metadata": {
        "id": "smMn0tBg0ss2"
      }
    },
    {
      "cell_type": "code",
      "source": [
        "results = []\n",
        "for index, row in tqdm(df_stimuli.iterrows(), total=df_stimuli.shape[0]):\n",
        "  prob = next_seq_prob(gpt2, tokenizer, row['Sentence'], row['Word'])\n",
        "\n",
        "  results.append({\n",
        "      'Sentence' : row['Sentence'],\n",
        "      'Word' : row['Word'],\n",
        "      'Condition' : row['Condition'],\n",
        "      'Probability' : prob,\n",
        "      'Surprisal' : -np.log2(prob)\n",
        "  })\n",
        "\n",
        "# create DataFrame\n",
        "df_results = pd.DataFrame(results)\n",
        "\n",
        "# limit to 6 rows for readability\n",
        "df_results.head(6)"
      ],
      "metadata": {
        "colab": {
          "base_uri": "https://localhost:8080/",
          "height": 255
        },
        "id": "5-F-XNsl4SgK",
        "outputId": "75b10761-fc66-4a87-c736-2794544ae5f2"
      },
      "execution_count": 9,
      "outputs": [
        {
          "output_type": "stream",
          "name": "stderr",
          "text": [
            "100%|██████████| 20/20 [00:12<00:00,  1.63it/s]\n"
          ]
        },
        {
          "output_type": "execute_result",
          "data": {
            "text/plain": [
              "         Sentence       Word     Condition  Probability  Surprisal\n",
              "0    I didn't see     anyone   Grammatical     0.025525   5.291970\n",
              "1    I didn't see     no one  Agrammatical     0.000018  15.747697\n",
              "2  You don't know   anything   Grammatical     0.019375   5.689694\n",
              "3  You don't know    nothing  Agrammatical     0.000367  11.413838\n",
              "4     We can't go   anywhere   Grammatical     0.016659   5.907538\n",
              "5     We can't go    nowhere  Agrammatical     0.000294  11.733056"
            ],
            "text/html": [
              "\n",
              "  <div id=\"df-4e7a49c4-f007-4af5-b7b3-20c4f40152ce\" class=\"colab-df-container\">\n",
              "    <div>\n",
              "<style scoped>\n",
              "    .dataframe tbody tr th:only-of-type {\n",
              "        vertical-align: middle;\n",
              "    }\n",
              "\n",
              "    .dataframe tbody tr th {\n",
              "        vertical-align: top;\n",
              "    }\n",
              "\n",
              "    .dataframe thead th {\n",
              "        text-align: right;\n",
              "    }\n",
              "</style>\n",
              "<table border=\"1\" class=\"dataframe\">\n",
              "  <thead>\n",
              "    <tr style=\"text-align: right;\">\n",
              "      <th></th>\n",
              "      <th>Sentence</th>\n",
              "      <th>Word</th>\n",
              "      <th>Condition</th>\n",
              "      <th>Probability</th>\n",
              "      <th>Surprisal</th>\n",
              "    </tr>\n",
              "  </thead>\n",
              "  <tbody>\n",
              "    <tr>\n",
              "      <th>0</th>\n",
              "      <td>I didn't see</td>\n",
              "      <td>anyone</td>\n",
              "      <td>Grammatical</td>\n",
              "      <td>0.025525</td>\n",
              "      <td>5.291970</td>\n",
              "    </tr>\n",
              "    <tr>\n",
              "      <th>1</th>\n",
              "      <td>I didn't see</td>\n",
              "      <td>no one</td>\n",
              "      <td>Agrammatical</td>\n",
              "      <td>0.000018</td>\n",
              "      <td>15.747697</td>\n",
              "    </tr>\n",
              "    <tr>\n",
              "      <th>2</th>\n",
              "      <td>You don't know</td>\n",
              "      <td>anything</td>\n",
              "      <td>Grammatical</td>\n",
              "      <td>0.019375</td>\n",
              "      <td>5.689694</td>\n",
              "    </tr>\n",
              "    <tr>\n",
              "      <th>3</th>\n",
              "      <td>You don't know</td>\n",
              "      <td>nothing</td>\n",
              "      <td>Agrammatical</td>\n",
              "      <td>0.000367</td>\n",
              "      <td>11.413838</td>\n",
              "    </tr>\n",
              "    <tr>\n",
              "      <th>4</th>\n",
              "      <td>We can't go</td>\n",
              "      <td>anywhere</td>\n",
              "      <td>Grammatical</td>\n",
              "      <td>0.016659</td>\n",
              "      <td>5.907538</td>\n",
              "    </tr>\n",
              "    <tr>\n",
              "      <th>5</th>\n",
              "      <td>We can't go</td>\n",
              "      <td>nowhere</td>\n",
              "      <td>Agrammatical</td>\n",
              "      <td>0.000294</td>\n",
              "      <td>11.733056</td>\n",
              "    </tr>\n",
              "  </tbody>\n",
              "</table>\n",
              "</div>\n",
              "    <div class=\"colab-df-buttons\">\n",
              "\n",
              "  <div class=\"colab-df-container\">\n",
              "    <button class=\"colab-df-convert\" onclick=\"convertToInteractive('df-4e7a49c4-f007-4af5-b7b3-20c4f40152ce')\"\n",
              "            title=\"Convert this dataframe to an interactive table.\"\n",
              "            style=\"display:none;\">\n",
              "\n",
              "  <svg xmlns=\"http://www.w3.org/2000/svg\" height=\"24px\" viewBox=\"0 -960 960 960\">\n",
              "    <path d=\"M120-120v-720h720v720H120Zm60-500h600v-160H180v160Zm220 220h160v-160H400v160Zm0 220h160v-160H400v160ZM180-400h160v-160H180v160Zm440 0h160v-160H620v160ZM180-180h160v-160H180v160Zm440 0h160v-160H620v160Z\"/>\n",
              "  </svg>\n",
              "    </button>\n",
              "\n",
              "  <style>\n",
              "    .colab-df-container {\n",
              "      display:flex;\n",
              "      gap: 12px;\n",
              "    }\n",
              "\n",
              "    .colab-df-convert {\n",
              "      background-color: #E8F0FE;\n",
              "      border: none;\n",
              "      border-radius: 50%;\n",
              "      cursor: pointer;\n",
              "      display: none;\n",
              "      fill: #1967D2;\n",
              "      height: 32px;\n",
              "      padding: 0 0 0 0;\n",
              "      width: 32px;\n",
              "    }\n",
              "\n",
              "    .colab-df-convert:hover {\n",
              "      background-color: #E2EBFA;\n",
              "      box-shadow: 0px 1px 2px rgba(60, 64, 67, 0.3), 0px 1px 3px 1px rgba(60, 64, 67, 0.15);\n",
              "      fill: #174EA6;\n",
              "    }\n",
              "\n",
              "    .colab-df-buttons div {\n",
              "      margin-bottom: 4px;\n",
              "    }\n",
              "\n",
              "    [theme=dark] .colab-df-convert {\n",
              "      background-color: #3B4455;\n",
              "      fill: #D2E3FC;\n",
              "    }\n",
              "\n",
              "    [theme=dark] .colab-df-convert:hover {\n",
              "      background-color: #434B5C;\n",
              "      box-shadow: 0px 1px 3px 1px rgba(0, 0, 0, 0.15);\n",
              "      filter: drop-shadow(0px 1px 2px rgba(0, 0, 0, 0.3));\n",
              "      fill: #FFFFFF;\n",
              "    }\n",
              "  </style>\n",
              "\n",
              "    <script>\n",
              "      const buttonEl =\n",
              "        document.querySelector('#df-4e7a49c4-f007-4af5-b7b3-20c4f40152ce button.colab-df-convert');\n",
              "      buttonEl.style.display =\n",
              "        google.colab.kernel.accessAllowed ? 'block' : 'none';\n",
              "\n",
              "      async function convertToInteractive(key) {\n",
              "        const element = document.querySelector('#df-4e7a49c4-f007-4af5-b7b3-20c4f40152ce');\n",
              "        const dataTable =\n",
              "          await google.colab.kernel.invokeFunction('convertToInteractive',\n",
              "                                                    [key], {});\n",
              "        if (!dataTable) return;\n",
              "\n",
              "        const docLinkHtml = 'Like what you see? Visit the ' +\n",
              "          '<a target=\"_blank\" href=https://colab.research.google.com/notebooks/data_table.ipynb>data table notebook</a>'\n",
              "          + ' to learn more about interactive tables.';\n",
              "        element.innerHTML = '';\n",
              "        dataTable['output_type'] = 'display_data';\n",
              "        await google.colab.output.renderOutput(dataTable, element);\n",
              "        const docLink = document.createElement('div');\n",
              "        docLink.innerHTML = docLinkHtml;\n",
              "        element.appendChild(docLink);\n",
              "      }\n",
              "    </script>\n",
              "  </div>\n",
              "\n",
              "\n",
              "    <div id=\"df-d6cf8eda-62db-4db3-a533-3698a692771a\">\n",
              "      <button class=\"colab-df-quickchart\" onclick=\"quickchart('df-d6cf8eda-62db-4db3-a533-3698a692771a')\"\n",
              "                title=\"Suggest charts\"\n",
              "                style=\"display:none;\">\n",
              "\n",
              "<svg xmlns=\"http://www.w3.org/2000/svg\" height=\"24px\"viewBox=\"0 0 24 24\"\n",
              "     width=\"24px\">\n",
              "    <g>\n",
              "        <path d=\"M19 3H5c-1.1 0-2 .9-2 2v14c0 1.1.9 2 2 2h14c1.1 0 2-.9 2-2V5c0-1.1-.9-2-2-2zM9 17H7v-7h2v7zm4 0h-2V7h2v10zm4 0h-2v-4h2v4z\"/>\n",
              "    </g>\n",
              "</svg>\n",
              "      </button>\n",
              "\n",
              "<style>\n",
              "  .colab-df-quickchart {\n",
              "      --bg-color: #E8F0FE;\n",
              "      --fill-color: #1967D2;\n",
              "      --hover-bg-color: #E2EBFA;\n",
              "      --hover-fill-color: #174EA6;\n",
              "      --disabled-fill-color: #AAA;\n",
              "      --disabled-bg-color: #DDD;\n",
              "  }\n",
              "\n",
              "  [theme=dark] .colab-df-quickchart {\n",
              "      --bg-color: #3B4455;\n",
              "      --fill-color: #D2E3FC;\n",
              "      --hover-bg-color: #434B5C;\n",
              "      --hover-fill-color: #FFFFFF;\n",
              "      --disabled-bg-color: #3B4455;\n",
              "      --disabled-fill-color: #666;\n",
              "  }\n",
              "\n",
              "  .colab-df-quickchart {\n",
              "    background-color: var(--bg-color);\n",
              "    border: none;\n",
              "    border-radius: 50%;\n",
              "    cursor: pointer;\n",
              "    display: none;\n",
              "    fill: var(--fill-color);\n",
              "    height: 32px;\n",
              "    padding: 0;\n",
              "    width: 32px;\n",
              "  }\n",
              "\n",
              "  .colab-df-quickchart:hover {\n",
              "    background-color: var(--hover-bg-color);\n",
              "    box-shadow: 0 1px 2px rgba(60, 64, 67, 0.3), 0 1px 3px 1px rgba(60, 64, 67, 0.15);\n",
              "    fill: var(--button-hover-fill-color);\n",
              "  }\n",
              "\n",
              "  .colab-df-quickchart-complete:disabled,\n",
              "  .colab-df-quickchart-complete:disabled:hover {\n",
              "    background-color: var(--disabled-bg-color);\n",
              "    fill: var(--disabled-fill-color);\n",
              "    box-shadow: none;\n",
              "  }\n",
              "\n",
              "  .colab-df-spinner {\n",
              "    border: 2px solid var(--fill-color);\n",
              "    border-color: transparent;\n",
              "    border-bottom-color: var(--fill-color);\n",
              "    animation:\n",
              "      spin 1s steps(1) infinite;\n",
              "  }\n",
              "\n",
              "  @keyframes spin {\n",
              "    0% {\n",
              "      border-color: transparent;\n",
              "      border-bottom-color: var(--fill-color);\n",
              "      border-left-color: var(--fill-color);\n",
              "    }\n",
              "    20% {\n",
              "      border-color: transparent;\n",
              "      border-left-color: var(--fill-color);\n",
              "      border-top-color: var(--fill-color);\n",
              "    }\n",
              "    30% {\n",
              "      border-color: transparent;\n",
              "      border-left-color: var(--fill-color);\n",
              "      border-top-color: var(--fill-color);\n",
              "      border-right-color: var(--fill-color);\n",
              "    }\n",
              "    40% {\n",
              "      border-color: transparent;\n",
              "      border-right-color: var(--fill-color);\n",
              "      border-top-color: var(--fill-color);\n",
              "    }\n",
              "    60% {\n",
              "      border-color: transparent;\n",
              "      border-right-color: var(--fill-color);\n",
              "    }\n",
              "    80% {\n",
              "      border-color: transparent;\n",
              "      border-right-color: var(--fill-color);\n",
              "      border-bottom-color: var(--fill-color);\n",
              "    }\n",
              "    90% {\n",
              "      border-color: transparent;\n",
              "      border-bottom-color: var(--fill-color);\n",
              "    }\n",
              "  }\n",
              "</style>\n",
              "\n",
              "      <script>\n",
              "        async function quickchart(key) {\n",
              "          const quickchartButtonEl =\n",
              "            document.querySelector('#' + key + ' button');\n",
              "          quickchartButtonEl.disabled = true;  // To prevent multiple clicks.\n",
              "          quickchartButtonEl.classList.add('colab-df-spinner');\n",
              "          try {\n",
              "            const charts = await google.colab.kernel.invokeFunction(\n",
              "                'suggestCharts', [key], {});\n",
              "          } catch (error) {\n",
              "            console.error('Error during call to suggestCharts:', error);\n",
              "          }\n",
              "          quickchartButtonEl.classList.remove('colab-df-spinner');\n",
              "          quickchartButtonEl.classList.add('colab-df-quickchart-complete');\n",
              "        }\n",
              "        (() => {\n",
              "          let quickchartButtonEl =\n",
              "            document.querySelector('#df-d6cf8eda-62db-4db3-a533-3698a692771a button');\n",
              "          quickchartButtonEl.style.display =\n",
              "            google.colab.kernel.accessAllowed ? 'block' : 'none';\n",
              "        })();\n",
              "      </script>\n",
              "    </div>\n",
              "\n",
              "    </div>\n",
              "  </div>\n"
            ],
            "application/vnd.google.colaboratory.intrinsic+json": {
              "type": "dataframe",
              "variable_name": "df_results",
              "summary": "{\n  \"name\": \"df_results\",\n  \"rows\": 20,\n  \"fields\": [\n    {\n      \"column\": \"Sentence\",\n      \"properties\": {\n        \"dtype\": \"string\",\n        \"num_unique_values\": 10,\n        \"samples\": [\n          \"They haven't been of\",\n          \"You don't know\",\n          \"It won't do you\"\n        ],\n        \"semantic_type\": \"\",\n        \"description\": \"\"\n      }\n    },\n    {\n      \"column\": \"Word\",\n      \"properties\": {\n        \"dtype\": \"string\",\n        \"num_unique_values\": 20,\n        \"samples\": [\n          \" anyone\",\n          \" no help\",\n          \" no idea\"\n        ],\n        \"semantic_type\": \"\",\n        \"description\": \"\"\n      }\n    },\n    {\n      \"column\": \"Condition\",\n      \"properties\": {\n        \"dtype\": \"category\",\n        \"num_unique_values\": 2,\n        \"samples\": [\n          \"Agrammatical\",\n          \"Grammatical\"\n        ],\n        \"semantic_type\": \"\",\n        \"description\": \"\"\n      }\n    },\n    {\n      \"column\": \"Probability\",\n      \"properties\": {\n        \"dtype\": \"number\",\n        \"std\": 0.10361694151419559,\n        \"min\": 2.010230900850729e-06,\n        \"max\": 0.46765226125717163,\n        \"num_unique_values\": 20,\n        \"samples\": [\n          0.02552456595003605,\n          4.558670480037108e-05\n        ],\n        \"semantic_type\": \"\",\n        \"description\": \"\"\n      }\n    },\n    {\n      \"column\": \"Surprisal\",\n      \"properties\": {\n        \"dtype\": \"number\",\n        \"std\": 4.53586633909083,\n        \"min\": 1.0964919313918422,\n        \"max\": 18.92420734633787,\n        \"num_unique_values\": 20,\n        \"samples\": [\n          5.291969761759005,\n          14.421027345558278\n        ],\n        \"semantic_type\": \"\",\n        \"description\": \"\"\n      }\n    }\n  ]\n}"
            }
          },
          "metadata": {},
          "execution_count": 9
        }
      ]
    },
    {
      "cell_type": "code",
      "source": [
        "# verify that we have 10 minimal pairs & 20 items\n",
        "print(f\"Number of minimal pairs: {df_results['Sentence'].nunique()}\")\n",
        "print(f\"Number of items: {df_results.shape[0]}\")"
      ],
      "metadata": {
        "colab": {
          "base_uri": "https://localhost:8080/"
        },
        "id": "eehanGVFfebK",
        "outputId": "d31bb4fa-075d-40a7-a387-4e39f5e71eee"
      },
      "execution_count": 10,
      "outputs": [
        {
          "output_type": "stream",
          "name": "stdout",
          "text": [
            "Number of minimal pairs: 10\n",
            "Number of items: 20\n"
          ]
        }
      ]
    },
    {
      "cell_type": "markdown",
      "source": [
        "## Results"
      ],
      "metadata": {
        "id": "tNNwJ5ohj4kT"
      }
    },
    {
      "cell_type": "markdown",
      "source": [
        "### Overall Results (Grammatical vs. Agrammatical)"
      ],
      "metadata": {
        "id": "T9wV6wnK7CB7"
      }
    },
    {
      "cell_type": "markdown",
      "source": [
        "After iterating through each minimal pair and storing its results, I can now observe overall surprisal values for each of the two conditions."
      ],
      "metadata": {
        "id": "FlwlNMcU1YX4"
      }
    },
    {
      "cell_type": "code",
      "source": [
        "# visualize results\n",
        "ax = sns.barplot(data=df_results, x='Condition', y='Surprisal')\n",
        "plt.show()"
      ],
      "metadata": {
        "colab": {
          "base_uri": "https://localhost:8080/",
          "height": 455
        },
        "id": "JhDjlIhQ5Pe3",
        "outputId": "01d9c619-20e3-4a5e-abac-33f69699e693"
      },
      "execution_count": 11,
      "outputs": [
        {
          "output_type": "display_data",
          "data": {
            "text/plain": [
              "<Figure size 640x480 with 1 Axes>"
            ],
            "image/png": "[encoded data removed]"
          },
          "metadata": {
            "image/png": {
              "width": 562,
              "height": 438
            }
          }
        }
      ]
    },
    {
      "cell_type": "markdown",
      "source": [
        "### Example of individual results"
      ],
      "metadata": {
        "id": "dl8TdXI91pgv"
      }
    },
    {
      "cell_type": "markdown",
      "source": [
        "#### Minimal Pair 1"
      ],
      "metadata": {
        "id": "FZcjSTLb1vWf"
      }
    },
    {
      "cell_type": "code",
      "source": [
        "ax = sns.barplot(data=df_results.iloc[0:2], x='Condition', y='Surprisal')\n",
        "plt.title(f'\"{df_results[\"Sentence\"].iloc[0]}\"')\n",
        "plt.show()"
      ],
      "metadata": {
        "colab": {
          "base_uri": "https://localhost:8080/",
          "height": 471
        },
        "id": "SuvOFoFI16U5",
        "outputId": "90fba56c-607f-4e33-cc9a-746598c7c92f"
      },
      "execution_count": 12,
      "outputs": [
        {
          "output_type": "display_data",
          "data": {
            "text/plain": [
              "<Figure size 640x480 with 1 Axes>"
            ],
            "image/png": "[encoded data removed]"
          },
          "metadata": {
            "image/png": {
              "width": 562,
              "height": 454
            }
          }
        }
      ]
    },
    {
      "cell_type": "markdown",
      "source": [
        "## Discussion"
      ],
      "metadata": {
        "id": "JhAPczIyXJA5"
      }
    },
    {
      "cell_type": "markdown",
      "source": [
        "Overall, the results show high surprisal for the `Agrammatical` condition, where a double-negative was used for the corresponding sentence clause. Average surprisal for sentences with double-negatives was nearly twice as much as average surprisal for those without.\n",
        "\n",
        "One limitation that is worth noting here is that using ambiguous stimuli means that we cannot be completely certain whether or not the model is sensitive to it. While it appears that the model is more surprised by double-negatives, or agrammatical stimuli, these are still often used, so it raises the question of whether or not the model is equally surprised by double-negatives as any other form of incorrect language. A good way to test this would be to add a third item that would not make any sense at all, and compare its surprisal to that of the double-negative item. For example, for the minimal pair \"I didn't see anyone\" vs. \"I didn't see no one\", a random third word such as \"aren't\" could be used to create the sentence \"I didn't see aren't\", which is completely incorrect and nonsensical, and compare surprisal values. If surprisal for the new, third item is roughly equal to that of the double-negative item, it could imply that the model does not understand or expect double-negatives at all. If surprisal for the third item is significantly higher than that of the double-negative item, it could mean that the model may expect and recognize double-negatives to a certain degree.\n",
        "\n",
        "High surprisal for the agrammatical stimuli suggests that the model has learned this grammatical rule, where double-negatives should not be used. However, as discussed earlier, double-negatives, while grammatically incorrect, are used frequently in casual conversation and are found in certain dialects. Therefore, double-negatives are a complicated case when looking at English rules of grammar, and these results can have multiple implications.\n",
        "\n",
        "High surprisal indicates that double-negatives are not found frequently in the model's training data. It would make sense for grammatically incorrect sentences to be missing or sparsely found in a model's training data. However, this does not mean that double-negatives are rarely used by English speakers. Since they are often used in informal situations or within communities that speak certain dialects, it could imply biases in the data, where there is underrepresentation for informal dialogue or language spoken by certain communities. This aligns with the limitations of GPT models discussed in class, including that their training data has been primarily in English, written rather than spoken, and online. This may also align with a phenomenon discussed in the Atari et al. (2023) paper, which found that GPT-4 appears to be trained primarily on \"WEIRD\" data, and underrepresents language from marginalized communities.\n",
        "\n",
        "LLMs that contain biases in their training data can have significant consequences, as they may end up perpetuating those same biases when deployed. Double-negatives are often used in African-American Vernacular English (AAVE), but it may be that the model evaluated here (GPT-2) understands double-negatives as a grammatically incorrect feature only, with no nuance. Therefore, it may be that dialogue from AAVE speakers, whom are primarily Black Americans, are underrepresented in the model's data. By containing biased data underrepresenting this group, a feedback loop is created where GPT-2 and other models may erase dialogue from these speakers, and could even amplify harmful stereotypes against them that already exist.\n",
        "\n",
        "As LLMs grow in use, these issues can go from mere data limitations to ones that affect real-world decisions and reinforce harmful biases. LLMs that perpetuate human biases against certain groups can create psychological harm to people of those groups when using the model or being exposed to its outputs. Furthermore, a LLM that generates incorrect and harmful text about certain groups may be used by malicious people intending to further spread stereotypes and propaganda against those groups. Also, LLMs may be used for decision making that can negatively impact the groups that it shows biases against.\n",
        "\n",
        "For these reasons, a simple grammar evaluation test on a model can actually be a sign of a larger issue, where data is underrepresentative of real-world diversity in language, and can strengthen harmful biases found in humans. Because of this, it is important to test models for their accuracy and representation, as well as fine-tune them to ensure that they are used to benefit humanity rather than make its issues worse."
      ],
      "metadata": {
        "id": "rkdWZ78tXR_e"
      }
    }
  ]
}