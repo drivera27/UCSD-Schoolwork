{
 "cells": [
  {
   "cell_type": "markdown",
   "id": "4c0f38f6-0541-4b77-90ac-7001e1aa90f3",
   "metadata": {},
   "source": [
    "# COGS 189 Final Project"
   ]
  },
  {
   "cell_type": "markdown",
   "id": "9bb9f09e-56e9-4b61-a616-4cb9dd8afcf9",
   "metadata": {},
   "source": [
    "WI25\n",
    "\n",
    "**Name**: Danny Rivera\n",
    "\n",
    "**PID:** A16906333\n",
    "\n",
    "**Group Name**: Anxiety Classification"
   ]
  },
  {
   "cell_type": "markdown",
   "id": "3de2a4cf-6e6f-4733-8cc3-17d7f9f6d07c",
   "metadata": {},
   "source": [
    "**Link to Original Dataset and Paper**: [Identification of Major Psychiatric Disorders From Resting-State Electroencephalography Using a Machine Learning Approach](https://www.frontiersin.org/journals/psychiatry/articles/10.3389/fpsyt.2021.707581/full)\n",
    "*Park, S. M. (2021, August 16).*"
   ]
  },
  {
   "cell_type": "markdown",
   "id": "dc2dfa1b-0b56-46ae-ab93-e626a853bf74",
   "metadata": {},
   "source": [
    "#### Goals\n",
    "1. Use different ML techniques to differentiate anxiety patient disorders from control patients using binary classification (most EEG studies to classify disorders involve classifying schizophrenia, Alzheimer's)\n",
    "2. Determine which model(s) works best for classifying which disorders"
   ]
  },
  {
   "cell_type": "code",
   "execution_count": 1,
   "id": "3e66ad0e-cc32-44e3-9344-39888b000df0",
   "metadata": {},
   "outputs": [],
   "source": [
    "import numpy as np\n",
    "import pandas as pd\n",
    "import matplotlib.pyplot as plt\n",
    "import seaborn as sns\n",
    "\n",
    "from sklearn.model_selection import train_test_split\n",
    "from sklearn.preprocessing import MinMaxScaler, StandardScaler\n",
    "from sklearn.linear_model import LogisticRegression\n",
    "from sklearn.svm import SVC\n",
    "from sklearn.ensemble import RandomForestClassifier\n",
    "from sklearn.metrics import classification_report"
   ]
  },
  {
   "cell_type": "code",
   "execution_count": 2,
   "id": "4af4617f-9283-452a-8c55-1ba31e46885c",
   "metadata": {
    "scrolled": true
   },
   "outputs": [],
   "source": [
    "# read in data\n",
    "df = pd.read_csv(\"EEG.machinelearing_data_BRMH.csv\")"
   ]
  },
  {
   "cell_type": "markdown",
   "id": "a6797af0-3bdc-4219-b7c8-4bede1c95c50",
   "metadata": {},
   "source": [
    "# Dataset"
   ]
  },
  {
   "cell_type": "markdown",
   "id": "f6d641d1-2ea5-4480-b956-f2aae03fef75",
   "metadata": {},
   "source": [
    "#### About the Dataset\n",
    "- **What:** Resting state EEG via Compumedics Neuroscan, CSV file\n",
    "    - 19 channels based on 10-20 system\n",
    "    - Fs = 128\n",
    "    - Recorded over 5 minutes\n",
    "- **When:** Jan 2011 - Dec 2018\n",
    "- **Where:** Seoul Metropolitan Government-Seoul National University (SMG-SNU) Boramae Medical Center, Seoul, South Korea\n",
    "- **Who:** Multiple researchers at SNU and Ewha Womans University (both in Seoul)\n",
    "    - Departments of Psychiatry and Behavioral Science, Statistics, Institute of Human Behavioral Medicine"
   ]
  },
  {
   "cell_type": "markdown",
   "id": "85def75e-b150-49ca-9ec0-e5759152367c",
   "metadata": {},
   "source": [
    "The dataset originally has 945 rows, or recordings, and 1149 columns.\n",
    "\n",
    "Columns vary from holding patient ID information (`no.`), information about patient demographic (`sex`, `age`, etc), name of the patient's condition (`main.disorder`, `specific.disorder`), or EEG attributes (`AB.A.delta.a.FP1`, etc)."
   ]
  },
  {
   "cell_type": "code",
   "execution_count": 3,
   "id": "89c5bdef-d18e-4291-9a5a-b3b74b24700b",
   "metadata": {},
   "outputs": [
    {
     "name": "stdout",
     "output_type": "stream",
     "text": [
      "Dataset Shape: (945, 1149)\n"
     ]
    },
    {
     "data": {
      "text/html": [
       "<div>\n",
       "<style scoped>\n",
       "    .dataframe tbody tr th:only-of-type {\n",
       "        vertical-align: middle;\n",
       "    }\n",
       "\n",
       "    .dataframe tbody tr th {\n",
       "        vertical-align: top;\n",
       "    }\n",
       "\n",
       "    .dataframe thead th {\n",
       "        text-align: right;\n",
       "    }\n",
       "</style>\n",
       "<table border=\"1\" class=\"dataframe\">\n",
       "  <thead>\n",
       "    <tr style=\"text-align: right;\">\n",
       "      <th></th>\n",
       "      <th>no.</th>\n",
       "      <th>sex</th>\n",
       "      <th>age</th>\n",
       "      <th>eeg.date</th>\n",
       "      <th>education</th>\n",
       "      <th>IQ</th>\n",
       "      <th>main.disorder</th>\n",
       "      <th>specific.disorder</th>\n",
       "      <th>AB.A.delta.a.FP1</th>\n",
       "      <th>AB.A.delta.b.FP2</th>\n",
       "      <th>...</th>\n",
       "      <th>COH.F.gamma.o.Pz.p.P4</th>\n",
       "      <th>COH.F.gamma.o.Pz.q.T6</th>\n",
       "      <th>COH.F.gamma.o.Pz.r.O1</th>\n",
       "      <th>COH.F.gamma.o.Pz.s.O2</th>\n",
       "      <th>COH.F.gamma.p.P4.q.T6</th>\n",
       "      <th>COH.F.gamma.p.P4.r.O1</th>\n",
       "      <th>COH.F.gamma.p.P4.s.O2</th>\n",
       "      <th>COH.F.gamma.q.T6.r.O1</th>\n",
       "      <th>COH.F.gamma.q.T6.s.O2</th>\n",
       "      <th>COH.F.gamma.r.O1.s.O2</th>\n",
       "    </tr>\n",
       "  </thead>\n",
       "  <tbody>\n",
       "    <tr>\n",
       "      <th>0</th>\n",
       "      <td>1</td>\n",
       "      <td>M</td>\n",
       "      <td>57.0</td>\n",
       "      <td>2012.8.30</td>\n",
       "      <td>NaN</td>\n",
       "      <td>NaN</td>\n",
       "      <td>Addictive disorder</td>\n",
       "      <td>Alcohol use disorder</td>\n",
       "      <td>35.998557</td>\n",
       "      <td>21.717375</td>\n",
       "      <td>...</td>\n",
       "      <td>55.989192</td>\n",
       "      <td>16.739679</td>\n",
       "      <td>23.452271</td>\n",
       "      <td>45.678820</td>\n",
       "      <td>30.167520</td>\n",
       "      <td>16.918761</td>\n",
       "      <td>48.850427</td>\n",
       "      <td>9.422630</td>\n",
       "      <td>34.507082</td>\n",
       "      <td>28.613029</td>\n",
       "    </tr>\n",
       "    <tr>\n",
       "      <th>1</th>\n",
       "      <td>2</td>\n",
       "      <td>M</td>\n",
       "      <td>37.0</td>\n",
       "      <td>2012.9.6</td>\n",
       "      <td>6.0</td>\n",
       "      <td>120.0</td>\n",
       "      <td>Addictive disorder</td>\n",
       "      <td>Alcohol use disorder</td>\n",
       "      <td>13.425118</td>\n",
       "      <td>11.002916</td>\n",
       "      <td>...</td>\n",
       "      <td>45.595619</td>\n",
       "      <td>17.510824</td>\n",
       "      <td>26.777368</td>\n",
       "      <td>28.201062</td>\n",
       "      <td>57.108861</td>\n",
       "      <td>32.375401</td>\n",
       "      <td>60.351749</td>\n",
       "      <td>13.900981</td>\n",
       "      <td>57.831848</td>\n",
       "      <td>43.463261</td>\n",
       "    </tr>\n",
       "    <tr>\n",
       "      <th>2</th>\n",
       "      <td>3</td>\n",
       "      <td>M</td>\n",
       "      <td>32.0</td>\n",
       "      <td>2012.9.10</td>\n",
       "      <td>16.0</td>\n",
       "      <td>113.0</td>\n",
       "      <td>Addictive disorder</td>\n",
       "      <td>Alcohol use disorder</td>\n",
       "      <td>29.941780</td>\n",
       "      <td>27.544684</td>\n",
       "      <td>...</td>\n",
       "      <td>99.475453</td>\n",
       "      <td>70.654171</td>\n",
       "      <td>39.131547</td>\n",
       "      <td>69.920996</td>\n",
       "      <td>71.063644</td>\n",
       "      <td>38.534505</td>\n",
       "      <td>69.908764</td>\n",
       "      <td>27.180532</td>\n",
       "      <td>64.803155</td>\n",
       "      <td>31.485799</td>\n",
       "    </tr>\n",
       "    <tr>\n",
       "      <th>3</th>\n",
       "      <td>4</td>\n",
       "      <td>M</td>\n",
       "      <td>35.0</td>\n",
       "      <td>2012.10.8</td>\n",
       "      <td>18.0</td>\n",
       "      <td>126.0</td>\n",
       "      <td>Addictive disorder</td>\n",
       "      <td>Alcohol use disorder</td>\n",
       "      <td>21.496226</td>\n",
       "      <td>21.846832</td>\n",
       "      <td>...</td>\n",
       "      <td>59.986561</td>\n",
       "      <td>63.822201</td>\n",
       "      <td>36.478254</td>\n",
       "      <td>47.117006</td>\n",
       "      <td>84.658376</td>\n",
       "      <td>24.724096</td>\n",
       "      <td>50.299349</td>\n",
       "      <td>35.319695</td>\n",
       "      <td>79.822944</td>\n",
       "      <td>41.141873</td>\n",
       "    </tr>\n",
       "    <tr>\n",
       "      <th>4</th>\n",
       "      <td>5</td>\n",
       "      <td>M</td>\n",
       "      <td>36.0</td>\n",
       "      <td>2012.10.18</td>\n",
       "      <td>16.0</td>\n",
       "      <td>112.0</td>\n",
       "      <td>Addictive disorder</td>\n",
       "      <td>Alcohol use disorder</td>\n",
       "      <td>37.775667</td>\n",
       "      <td>33.607679</td>\n",
       "      <td>...</td>\n",
       "      <td>61.462720</td>\n",
       "      <td>59.166097</td>\n",
       "      <td>51.465531</td>\n",
       "      <td>58.635415</td>\n",
       "      <td>80.685608</td>\n",
       "      <td>62.138436</td>\n",
       "      <td>75.888749</td>\n",
       "      <td>61.003944</td>\n",
       "      <td>87.455509</td>\n",
       "      <td>70.531662</td>\n",
       "    </tr>\n",
       "  </tbody>\n",
       "</table>\n",
       "<p>5 rows × 1149 columns</p>\n",
       "</div>"
      ],
      "text/plain": [
       "   no. sex   age    eeg.date  education     IQ       main.disorder  \\\n",
       "0    1   M  57.0   2012.8.30        NaN    NaN  Addictive disorder   \n",
       "1    2   M  37.0    2012.9.6        6.0  120.0  Addictive disorder   \n",
       "2    3   M  32.0   2012.9.10       16.0  113.0  Addictive disorder   \n",
       "3    4   M  35.0   2012.10.8       18.0  126.0  Addictive disorder   \n",
       "4    5   M  36.0  2012.10.18       16.0  112.0  Addictive disorder   \n",
       "\n",
       "      specific.disorder  AB.A.delta.a.FP1  AB.A.delta.b.FP2  ...  \\\n",
       "0  Alcohol use disorder         35.998557         21.717375  ...   \n",
       "1  Alcohol use disorder         13.425118         11.002916  ...   \n",
       "2  Alcohol use disorder         29.941780         27.544684  ...   \n",
       "3  Alcohol use disorder         21.496226         21.846832  ...   \n",
       "4  Alcohol use disorder         37.775667         33.607679  ...   \n",
       "\n",
       "   COH.F.gamma.o.Pz.p.P4  COH.F.gamma.o.Pz.q.T6  COH.F.gamma.o.Pz.r.O1  \\\n",
       "0              55.989192              16.739679              23.452271   \n",
       "1              45.595619              17.510824              26.777368   \n",
       "2              99.475453              70.654171              39.131547   \n",
       "3              59.986561              63.822201              36.478254   \n",
       "4              61.462720              59.166097              51.465531   \n",
       "\n",
       "   COH.F.gamma.o.Pz.s.O2  COH.F.gamma.p.P4.q.T6  COH.F.gamma.p.P4.r.O1  \\\n",
       "0              45.678820              30.167520              16.918761   \n",
       "1              28.201062              57.108861              32.375401   \n",
       "2              69.920996              71.063644              38.534505   \n",
       "3              47.117006              84.658376              24.724096   \n",
       "4              58.635415              80.685608              62.138436   \n",
       "\n",
       "   COH.F.gamma.p.P4.s.O2  COH.F.gamma.q.T6.r.O1  COH.F.gamma.q.T6.s.O2  \\\n",
       "0              48.850427               9.422630              34.507082   \n",
       "1              60.351749              13.900981              57.831848   \n",
       "2              69.908764              27.180532              64.803155   \n",
       "3              50.299349              35.319695              79.822944   \n",
       "4              75.888749              61.003944              87.455509   \n",
       "\n",
       "   COH.F.gamma.r.O1.s.O2  \n",
       "0              28.613029  \n",
       "1              43.463261  \n",
       "2              31.485799  \n",
       "3              41.141873  \n",
       "4              70.531662  \n",
       "\n",
       "[5 rows x 1149 columns]"
      ]
     },
     "execution_count": 3,
     "metadata": {},
     "output_type": "execute_result"
    }
   ],
   "source": [
    "print(\"Dataset Shape:\", df.shape)\n",
    "df.head()"
   ]
  },
  {
   "cell_type": "markdown",
   "id": "ee53fc69-4648-4b8d-a76e-0e95d2aaa8f7",
   "metadata": {},
   "source": [
    "## Anxiety Subset"
   ]
  },
  {
   "cell_type": "code",
   "execution_count": 4,
   "id": "9d573964-fcda-4547-a89a-b7547883accd",
   "metadata": {},
   "outputs": [
    {
     "data": {
      "text/plain": [
       "main.disorder\n",
       "Mood disorder                         266\n",
       "Addictive disorder                    186\n",
       "Trauma and stress related disorder    128\n",
       "Schizophrenia                         117\n",
       "Anxiety disorder                      107\n",
       "Healthy control                        95\n",
       "Obsessive compulsive disorder          46\n",
       "Name: count, dtype: int64"
      ]
     },
     "execution_count": 4,
     "metadata": {},
     "output_type": "execute_result"
    }
   ],
   "source": [
    "df['main.disorder'].value_counts()"
   ]
  },
  {
   "cell_type": "markdown",
   "id": "5304a86e-f1c8-4d75-815f-935020537fb6",
   "metadata": {},
   "source": [
    "There are a lot of different categories of disorders originally included, such as patients with schizophrenia, Alzheimer's, and various mood disorders. My project will only focus on the patients with anxiety-related disorders."
   ]
  },
  {
   "cell_type": "code",
   "execution_count": 5,
   "id": "a68acd02-59a9-4247-b659-b1b43e519f86",
   "metadata": {},
   "outputs": [
    {
     "data": {
      "text/plain": [
       "specific.disorder\n",
       "Panic disorder             59\n",
       "Social anxiety disorder    48\n",
       "Name: count, dtype: int64"
      ]
     },
     "execution_count": 5,
     "metadata": {},
     "output_type": "execute_result"
    }
   ],
   "source": [
    "df[df['main.disorder'] == 'Anxiety disorder']['specific.disorder'].value_counts()"
   ]
  },
  {
   "cell_type": "markdown",
   "id": "38c587ab-ba49-4e18-94e5-08f99c8b162a",
   "metadata": {},
   "source": [
    "There are two types of specific disorders found in the anxiety category: **Panic disorder** and **Social Anxiety** disorder.\n",
    "\n",
    "Next, I will reduce the dataset to only include either control patients or patients with these two specific disorders."
   ]
  },
  {
   "cell_type": "code",
   "execution_count": 6,
   "id": "457e31d5-9891-4208-a19d-182d33e40745",
   "metadata": {},
   "outputs": [
    {
     "name": "stdout",
     "output_type": "stream",
     "text": [
      "Shape of Dataset After Filtering: (202, 1149)\n"
     ]
    },
    {
     "data": {
      "text/html": [
       "<div>\n",
       "<style scoped>\n",
       "    .dataframe tbody tr th:only-of-type {\n",
       "        vertical-align: middle;\n",
       "    }\n",
       "\n",
       "    .dataframe tbody tr th {\n",
       "        vertical-align: top;\n",
       "    }\n",
       "\n",
       "    .dataframe thead th {\n",
       "        text-align: right;\n",
       "    }\n",
       "</style>\n",
       "<table border=\"1\" class=\"dataframe\">\n",
       "  <thead>\n",
       "    <tr style=\"text-align: right;\">\n",
       "      <th></th>\n",
       "      <th>no.</th>\n",
       "      <th>sex</th>\n",
       "      <th>age</th>\n",
       "      <th>eeg.date</th>\n",
       "      <th>education</th>\n",
       "      <th>IQ</th>\n",
       "      <th>main.disorder</th>\n",
       "      <th>specific.disorder</th>\n",
       "      <th>AB.A.delta.a.FP1</th>\n",
       "      <th>AB.A.delta.b.FP2</th>\n",
       "      <th>...</th>\n",
       "      <th>COH.F.gamma.o.Pz.p.P4</th>\n",
       "      <th>COH.F.gamma.o.Pz.q.T6</th>\n",
       "      <th>COH.F.gamma.o.Pz.r.O1</th>\n",
       "      <th>COH.F.gamma.o.Pz.s.O2</th>\n",
       "      <th>COH.F.gamma.p.P4.q.T6</th>\n",
       "      <th>COH.F.gamma.p.P4.r.O1</th>\n",
       "      <th>COH.F.gamma.p.P4.s.O2</th>\n",
       "      <th>COH.F.gamma.q.T6.r.O1</th>\n",
       "      <th>COH.F.gamma.q.T6.s.O2</th>\n",
       "      <th>COH.F.gamma.r.O1.s.O2</th>\n",
       "    </tr>\n",
       "  </thead>\n",
       "  <tbody>\n",
       "    <tr>\n",
       "      <th>113</th>\n",
       "      <td>114</td>\n",
       "      <td>F</td>\n",
       "      <td>34.16</td>\n",
       "      <td>2018.6.29</td>\n",
       "      <td>18.0</td>\n",
       "      <td>119.0</td>\n",
       "      <td>Healthy control</td>\n",
       "      <td>Healthy control</td>\n",
       "      <td>72.431249</td>\n",
       "      <td>69.386059</td>\n",
       "      <td>...</td>\n",
       "      <td>78.997160</td>\n",
       "      <td>67.622353</td>\n",
       "      <td>70.376986</td>\n",
       "      <td>66.281673</td>\n",
       "      <td>82.552243</td>\n",
       "      <td>57.823441</td>\n",
       "      <td>69.899527</td>\n",
       "      <td>52.622502</td>\n",
       "      <td>73.606786</td>\n",
       "      <td>64.037927</td>\n",
       "    </tr>\n",
       "    <tr>\n",
       "      <th>114</th>\n",
       "      <td>115</td>\n",
       "      <td>F</td>\n",
       "      <td>42.35</td>\n",
       "      <td>2018.6.29</td>\n",
       "      <td>16.0</td>\n",
       "      <td>110.0</td>\n",
       "      <td>Healthy control</td>\n",
       "      <td>Healthy control</td>\n",
       "      <td>19.579138</td>\n",
       "      <td>19.703305</td>\n",
       "      <td>...</td>\n",
       "      <td>67.123295</td>\n",
       "      <td>38.645146</td>\n",
       "      <td>47.996626</td>\n",
       "      <td>48.602407</td>\n",
       "      <td>66.139329</td>\n",
       "      <td>40.072587</td>\n",
       "      <td>62.466377</td>\n",
       "      <td>27.778563</td>\n",
       "      <td>59.736363</td>\n",
       "      <td>47.235652</td>\n",
       "    </tr>\n",
       "    <tr>\n",
       "      <th>115</th>\n",
       "      <td>116</td>\n",
       "      <td>F</td>\n",
       "      <td>35.16</td>\n",
       "      <td>2018.6.30</td>\n",
       "      <td>16.0</td>\n",
       "      <td>122.0</td>\n",
       "      <td>Healthy control</td>\n",
       "      <td>Healthy control</td>\n",
       "      <td>17.916294</td>\n",
       "      <td>22.911557</td>\n",
       "      <td>...</td>\n",
       "      <td>92.844007</td>\n",
       "      <td>81.673530</td>\n",
       "      <td>78.755278</td>\n",
       "      <td>83.905221</td>\n",
       "      <td>87.903450</td>\n",
       "      <td>75.363909</td>\n",
       "      <td>85.757201</td>\n",
       "      <td>73.195374</td>\n",
       "      <td>85.954023</td>\n",
       "      <td>82.878713</td>\n",
       "    </tr>\n",
       "    <tr>\n",
       "      <th>116</th>\n",
       "      <td>117</td>\n",
       "      <td>F</td>\n",
       "      <td>25.65</td>\n",
       "      <td>2018.7.2</td>\n",
       "      <td>18.0</td>\n",
       "      <td>118.0</td>\n",
       "      <td>Healthy control</td>\n",
       "      <td>Healthy control</td>\n",
       "      <td>20.081892</td>\n",
       "      <td>17.928614</td>\n",
       "      <td>...</td>\n",
       "      <td>99.447826</td>\n",
       "      <td>99.424714</td>\n",
       "      <td>44.181841</td>\n",
       "      <td>61.683927</td>\n",
       "      <td>99.513428</td>\n",
       "      <td>43.007308</td>\n",
       "      <td>62.525177</td>\n",
       "      <td>42.766646</td>\n",
       "      <td>62.843978</td>\n",
       "      <td>39.895496</td>\n",
       "    </tr>\n",
       "    <tr>\n",
       "      <th>117</th>\n",
       "      <td>118</td>\n",
       "      <td>F</td>\n",
       "      <td>18.89</td>\n",
       "      <td>2018.7.3</td>\n",
       "      <td>12.0</td>\n",
       "      <td>108.0</td>\n",
       "      <td>Healthy control</td>\n",
       "      <td>Healthy control</td>\n",
       "      <td>18.429434</td>\n",
       "      <td>26.156602</td>\n",
       "      <td>...</td>\n",
       "      <td>79.946089</td>\n",
       "      <td>72.771884</td>\n",
       "      <td>64.189258</td>\n",
       "      <td>69.407868</td>\n",
       "      <td>61.586105</td>\n",
       "      <td>45.679693</td>\n",
       "      <td>51.780683</td>\n",
       "      <td>61.221166</td>\n",
       "      <td>75.595992</td>\n",
       "      <td>69.627654</td>\n",
       "    </tr>\n",
       "  </tbody>\n",
       "</table>\n",
       "<p>5 rows × 1149 columns</p>\n",
       "</div>"
      ],
      "text/plain": [
       "     no. sex    age   eeg.date  education     IQ    main.disorder  \\\n",
       "113  114   F  34.16  2018.6.29       18.0  119.0  Healthy control   \n",
       "114  115   F  42.35  2018.6.29       16.0  110.0  Healthy control   \n",
       "115  116   F  35.16  2018.6.30       16.0  122.0  Healthy control   \n",
       "116  117   F  25.65   2018.7.2       18.0  118.0  Healthy control   \n",
       "117  118   F  18.89   2018.7.3       12.0  108.0  Healthy control   \n",
       "\n",
       "    specific.disorder  AB.A.delta.a.FP1  AB.A.delta.b.FP2  ...  \\\n",
       "113   Healthy control         72.431249         69.386059  ...   \n",
       "114   Healthy control         19.579138         19.703305  ...   \n",
       "115   Healthy control         17.916294         22.911557  ...   \n",
       "116   Healthy control         20.081892         17.928614  ...   \n",
       "117   Healthy control         18.429434         26.156602  ...   \n",
       "\n",
       "     COH.F.gamma.o.Pz.p.P4  COH.F.gamma.o.Pz.q.T6  COH.F.gamma.o.Pz.r.O1  \\\n",
       "113              78.997160              67.622353              70.376986   \n",
       "114              67.123295              38.645146              47.996626   \n",
       "115              92.844007              81.673530              78.755278   \n",
       "116              99.447826              99.424714              44.181841   \n",
       "117              79.946089              72.771884              64.189258   \n",
       "\n",
       "     COH.F.gamma.o.Pz.s.O2  COH.F.gamma.p.P4.q.T6  COH.F.gamma.p.P4.r.O1  \\\n",
       "113              66.281673              82.552243              57.823441   \n",
       "114              48.602407              66.139329              40.072587   \n",
       "115              83.905221              87.903450              75.363909   \n",
       "116              61.683927              99.513428              43.007308   \n",
       "117              69.407868              61.586105              45.679693   \n",
       "\n",
       "     COH.F.gamma.p.P4.s.O2  COH.F.gamma.q.T6.r.O1  COH.F.gamma.q.T6.s.O2  \\\n",
       "113              69.899527              52.622502              73.606786   \n",
       "114              62.466377              27.778563              59.736363   \n",
       "115              85.757201              73.195374              85.954023   \n",
       "116              62.525177              42.766646              62.843978   \n",
       "117              51.780683              61.221166              75.595992   \n",
       "\n",
       "     COH.F.gamma.r.O1.s.O2  \n",
       "113              64.037927  \n",
       "114              47.235652  \n",
       "115              82.878713  \n",
       "116              39.895496  \n",
       "117              69.627654  \n",
       "\n",
       "[5 rows x 1149 columns]"
      ]
     },
     "execution_count": 6,
     "metadata": {},
     "output_type": "execute_result"
    }
   ],
   "source": [
    "# reducing dataset to either HC or anxiety patients\n",
    "df = df[(df['main.disorder'] == 'Anxiety disorder') | (df['main.disorder'] == 'Healthy control')]\n",
    "\n",
    "print(\"Shape of Dataset After Filtering:\", df.shape)\n",
    "df.head()"
   ]
  },
  {
   "cell_type": "markdown",
   "id": "ad4e1fc4-3cbd-4034-a087-401b46676783",
   "metadata": {},
   "source": [
    "This greatly reduces our dataset, and there is now only 202 rows. Let's see how many patients there are for each condition:"
   ]
  },
  {
   "cell_type": "code",
   "execution_count": 7,
   "id": "a85d3ef7-6660-4578-a6a1-1e27aa4bc467",
   "metadata": {},
   "outputs": [
    {
     "name": "stdout",
     "output_type": "stream",
     "text": [
      "Number of Controls: 95\n",
      "Number of Panic Disorder patients: 59\n",
      "Number of Social Anxiety Disorder patients: 48\n"
     ]
    }
   ],
   "source": [
    "print(f\"Number of Controls: {len(df[df['main.disorder'] == 'Healthy control'])}\")\n",
    "print(f\"Number of Panic Disorder patients: {len(df[df['specific.disorder'] == 'Panic disorder'])}\")\n",
    "print(f\"Number of Social Anxiety Disorder patients: {len(df[df['specific.disorder'] == 'Social anxiety disorder'])}\")"
   ]
  },
  {
   "cell_type": "markdown",
   "id": "921f0ca3-6c08-4aa1-9ff0-e329ea541712",
   "metadata": {},
   "source": [
    "As shown, there is a disproportionate amount of control patients compared to the two specific anxiety groups. This means the classes are unbalanced, which will affect how I conduct classification. Unbalanced classes mean we cannot use classification accuracy as a measurement, so I will use F1 scores instead."
   ]
  },
  {
   "cell_type": "markdown",
   "id": "63e9990f-3418-4c46-9cd5-8589e0bf4e77",
   "metadata": {},
   "source": [
    "## Demographics"
   ]
  },
  {
   "cell_type": "markdown",
   "id": "730f4653-dbb5-49d1-9a1e-c2ed603bb272",
   "metadata": {},
   "source": [
    "After reducing the dataframe to just anxiety and control patients, I thought it might be interesting to look at some demographics of our data before deleting these columns for algorithm processing."
   ]
  },
  {
   "cell_type": "markdown",
   "id": "81a6d3d0-3542-4336-8b1f-245671c73888",
   "metadata": {},
   "source": [
    "### Gender"
   ]
  },
  {
   "cell_type": "code",
   "execution_count": 8,
   "id": "460a114b-7d4a-43dc-8b43-39ff9137e977",
   "metadata": {},
   "outputs": [],
   "source": [
    "gender = df['sex'].value_counts()"
   ]
  },
  {
   "cell_type": "code",
   "execution_count": 9,
   "id": "0834ace8-4b88-4a3f-b39b-b9b7815af045",
   "metadata": {},
   "outputs": [
    {
     "name": "stdout",
     "output_type": "stream",
     "text": [
      "Male Subjects: 139\n",
      "Female Subjects: 63\n"
     ]
    },
    {
     "data": {
      "image/png": "[encoded data removed]",
      "text/plain": [
       "<Figure size 640x480 with 1 Axes>"
      ]
     },
     "metadata": {},
     "output_type": "display_data"
    }
   ],
   "source": [
    "print(f\"Male Subjects: {gender.iloc[0]}\")\n",
    "print(f\"Female Subjects: {gender.iloc[1]}\")\n",
    "\n",
    "plt.bar(gender.index, gender.values, color=['blue', 'pink'])\n",
    "plt.title(\"Male and Female Subjects (Overall)\")\n",
    "plt.xlabel(\"Sex\")\n",
    "plt.ylabel(\"Count\")\n",
    "plt.show();"
   ]
  },
  {
   "cell_type": "markdown",
   "id": "d859a6b8-1efd-400c-8a9d-f6a0d50da7f2",
   "metadata": {},
   "source": [
    "### Age"
   ]
  },
  {
   "cell_type": "code",
   "execution_count": 10,
   "id": "55819ebf-37ab-4d63-9acf-373f6b48ef17",
   "metadata": {},
   "outputs": [
    {
     "name": "stdout",
     "output_type": "stream",
     "text": [
      "Average Patient Age: 27.47\n"
     ]
    }
   ],
   "source": [
    "print(f\"Average Patient Age: {round(df['age'].mean(), 2)}\")"
   ]
  },
  {
   "cell_type": "markdown",
   "id": "5636448e-ae53-41e0-9a37-33025daa8a00",
   "metadata": {},
   "source": [
    "## Overview of Columns"
   ]
  },
  {
   "cell_type": "markdown",
   "id": "b8624d48-3d10-475d-8545-fb6a6c50f9c4",
   "metadata": {},
   "source": [
    "Columns can be grouped by three main categories:\n",
    "1. PSD value of the specified band for each electrode (i.e `'AB.A.delta.a.FP1'`)\n",
    "2. Coherence value between two electrodes across a certain band (i.e `'COH.F.gamma.r.01.s.02'`)\n",
    "3. \"Other\": Columns with demographic information (i.e `age`) or other irrelevant columns\n",
    "\n",
    "For now, I will focus on the columns of the first category, PSD values for band values of electrodes. However, it would be really interesting to incorporate the coherence columns and observe how my classification metrics change with them."
   ]
  },
  {
   "cell_type": "code",
   "execution_count": 11,
   "id": "f78ffc5f-07f2-450c-ba55-0f73cb2246ab",
   "metadata": {},
   "outputs": [],
   "source": [
    "# rename columns\n",
    "psd_cols = []\n",
    "coh_cols = []\n",
    "other = []\n",
    "\n",
    "def group_columns():\n",
    "    \n",
    "    # separate columns\n",
    "    for i in df.columns:\n",
    "        if 'AB' in i:\n",
    "            psd_cols.append(i)\n",
    "        elif 'COH' in i:\n",
    "            coh_cols.append(i)\n",
    "        else:\n",
    "            other.append(i)\n",
    "\n",
    "group_columns()\n",
    "\n",
    "# add 'label' as one of the column names, for classification\n",
    "psd_cols.append('label')"
   ]
  },
  {
   "cell_type": "code",
   "execution_count": 12,
   "id": "8fc0ba4c-abde-4811-9360-ae5a2b2f977e",
   "metadata": {},
   "outputs": [
    {
     "name": "stderr",
     "output_type": "stream",
     "text": [
      "/tmp/ipykernel_8038/3532758948.py:5: FutureWarning: Downcasting behavior in `replace` is deprecated and will be removed in a future version. To retain the old behavior, explicitly call `result.infer_objects(copy=False)`. To opt-in to the future behavior, set `pd.set_option('future.no_silent_downcasting', True)`\n",
      "  df['label'] = df['specific.disorder'].replace({'Healthy control': 0, 'Panic disorder': 1, 'Social anxiety disorder':2})\n"
     ]
    }
   ],
   "source": [
    "# label data based on condition\n",
    "# 0 = Healthy control\n",
    "# 1 = Panic disorder\n",
    "# 2 = Social anxiety\n",
    "df['label'] = df['specific.disorder'].replace({'Healthy control': 0, 'Panic disorder': 1, 'Social anxiety disorder':2})"
   ]
  },
  {
   "cell_type": "code",
   "execution_count": 13,
   "id": "5e1f0875-2c4f-4fd1-bd55-9608e10175c0",
   "metadata": {},
   "outputs": [],
   "source": [
    "# drop irrelevant columns, restricting to only PSD value columns and 'label' column\n",
    "df = df[psd_cols]"
   ]
  },
  {
   "cell_type": "code",
   "execution_count": 14,
   "id": "f7c566e9-c0ff-4705-a477-2b029759fd7d",
   "metadata": {},
   "outputs": [
    {
     "data": {
      "text/html": [
       "<div>\n",
       "<style scoped>\n",
       "    .dataframe tbody tr th:only-of-type {\n",
       "        vertical-align: middle;\n",
       "    }\n",
       "\n",
       "    .dataframe tbody tr th {\n",
       "        vertical-align: top;\n",
       "    }\n",
       "\n",
       "    .dataframe thead th {\n",
       "        text-align: right;\n",
       "    }\n",
       "</style>\n",
       "<table border=\"1\" class=\"dataframe\">\n",
       "  <thead>\n",
       "    <tr style=\"text-align: right;\">\n",
       "      <th></th>\n",
       "      <th>AB.A.delta.a.FP1</th>\n",
       "      <th>AB.A.delta.b.FP2</th>\n",
       "      <th>AB.A.delta.c.F7</th>\n",
       "      <th>AB.A.delta.d.F3</th>\n",
       "      <th>AB.A.delta.e.Fz</th>\n",
       "      <th>AB.A.delta.f.F4</th>\n",
       "      <th>AB.A.delta.g.F8</th>\n",
       "      <th>AB.A.delta.h.T3</th>\n",
       "      <th>AB.A.delta.i.C3</th>\n",
       "      <th>AB.A.delta.j.Cz</th>\n",
       "      <th>...</th>\n",
       "      <th>AB.F.gamma.k.C4</th>\n",
       "      <th>AB.F.gamma.l.T4</th>\n",
       "      <th>AB.F.gamma.m.T5</th>\n",
       "      <th>AB.F.gamma.n.P3</th>\n",
       "      <th>AB.F.gamma.o.Pz</th>\n",
       "      <th>AB.F.gamma.p.P4</th>\n",
       "      <th>AB.F.gamma.q.T6</th>\n",
       "      <th>AB.F.gamma.r.O1</th>\n",
       "      <th>AB.F.gamma.s.O2</th>\n",
       "      <th>label</th>\n",
       "    </tr>\n",
       "  </thead>\n",
       "  <tbody>\n",
       "    <tr>\n",
       "      <th>113</th>\n",
       "      <td>72.431249</td>\n",
       "      <td>69.386059</td>\n",
       "      <td>62.775437</td>\n",
       "      <td>69.193931</td>\n",
       "      <td>69.447900</td>\n",
       "      <td>69.042085</td>\n",
       "      <td>57.324333</td>\n",
       "      <td>41.658465</td>\n",
       "      <td>55.851042</td>\n",
       "      <td>56.265661</td>\n",
       "      <td>...</td>\n",
       "      <td>2.629897</td>\n",
       "      <td>1.921199</td>\n",
       "      <td>2.833677</td>\n",
       "      <td>3.291747</td>\n",
       "      <td>2.824944</td>\n",
       "      <td>2.820016</td>\n",
       "      <td>2.248725</td>\n",
       "      <td>2.982932</td>\n",
       "      <td>2.940030</td>\n",
       "      <td>0</td>\n",
       "    </tr>\n",
       "    <tr>\n",
       "      <th>114</th>\n",
       "      <td>19.579138</td>\n",
       "      <td>19.703305</td>\n",
       "      <td>23.000027</td>\n",
       "      <td>31.034078</td>\n",
       "      <td>22.461115</td>\n",
       "      <td>23.616729</td>\n",
       "      <td>50.770251</td>\n",
       "      <td>14.458573</td>\n",
       "      <td>13.843582</td>\n",
       "      <td>19.761720</td>\n",
       "      <td>...</td>\n",
       "      <td>3.053290</td>\n",
       "      <td>2.505505</td>\n",
       "      <td>5.045257</td>\n",
       "      <td>4.101235</td>\n",
       "      <td>5.778042</td>\n",
       "      <td>3.676781</td>\n",
       "      <td>5.580233</td>\n",
       "      <td>6.530776</td>\n",
       "      <td>6.796860</td>\n",
       "      <td>0</td>\n",
       "    </tr>\n",
       "    <tr>\n",
       "      <th>115</th>\n",
       "      <td>17.916294</td>\n",
       "      <td>22.911557</td>\n",
       "      <td>19.951421</td>\n",
       "      <td>16.835759</td>\n",
       "      <td>16.792161</td>\n",
       "      <td>16.887329</td>\n",
       "      <td>27.237218</td>\n",
       "      <td>10.324034</td>\n",
       "      <td>16.298826</td>\n",
       "      <td>19.518705</td>\n",
       "      <td>...</td>\n",
       "      <td>4.408061</td>\n",
       "      <td>4.432309</td>\n",
       "      <td>3.839380</td>\n",
       "      <td>4.121491</td>\n",
       "      <td>3.959794</td>\n",
       "      <td>4.245507</td>\n",
       "      <td>4.349864</td>\n",
       "      <td>4.078656</td>\n",
       "      <td>3.722995</td>\n",
       "      <td>0</td>\n",
       "    </tr>\n",
       "    <tr>\n",
       "      <th>116</th>\n",
       "      <td>20.081892</td>\n",
       "      <td>17.928614</td>\n",
       "      <td>15.977752</td>\n",
       "      <td>18.119963</td>\n",
       "      <td>17.029861</td>\n",
       "      <td>13.545934</td>\n",
       "      <td>11.612536</td>\n",
       "      <td>13.578299</td>\n",
       "      <td>13.790407</td>\n",
       "      <td>14.739175</td>\n",
       "      <td>...</td>\n",
       "      <td>0.938444</td>\n",
       "      <td>0.652126</td>\n",
       "      <td>0.874891</td>\n",
       "      <td>0.800209</td>\n",
       "      <td>0.911272</td>\n",
       "      <td>0.823876</td>\n",
       "      <td>0.676607</td>\n",
       "      <td>0.654119</td>\n",
       "      <td>0.682812</td>\n",
       "      <td>0</td>\n",
       "    </tr>\n",
       "    <tr>\n",
       "      <th>117</th>\n",
       "      <td>18.429434</td>\n",
       "      <td>26.156602</td>\n",
       "      <td>15.751990</td>\n",
       "      <td>21.654509</td>\n",
       "      <td>26.128217</td>\n",
       "      <td>26.002065</td>\n",
       "      <td>16.649180</td>\n",
       "      <td>7.972443</td>\n",
       "      <td>24.789548</td>\n",
       "      <td>21.259534</td>\n",
       "      <td>...</td>\n",
       "      <td>2.729161</td>\n",
       "      <td>2.882060</td>\n",
       "      <td>2.163485</td>\n",
       "      <td>2.393303</td>\n",
       "      <td>2.455410</td>\n",
       "      <td>2.517420</td>\n",
       "      <td>2.242771</td>\n",
       "      <td>1.933288</td>\n",
       "      <td>2.269774</td>\n",
       "      <td>0</td>\n",
       "    </tr>\n",
       "    <tr>\n",
       "      <th>...</th>\n",
       "      <td>...</td>\n",
       "      <td>...</td>\n",
       "      <td>...</td>\n",
       "      <td>...</td>\n",
       "      <td>...</td>\n",
       "      <td>...</td>\n",
       "      <td>...</td>\n",
       "      <td>...</td>\n",
       "      <td>...</td>\n",
       "      <td>...</td>\n",
       "      <td>...</td>\n",
       "      <td>...</td>\n",
       "      <td>...</td>\n",
       "      <td>...</td>\n",
       "      <td>...</td>\n",
       "      <td>...</td>\n",
       "      <td>...</td>\n",
       "      <td>...</td>\n",
       "      <td>...</td>\n",
       "      <td>...</td>\n",
       "      <td>...</td>\n",
       "    </tr>\n",
       "    <tr>\n",
       "      <th>940</th>\n",
       "      <td>41.851823</td>\n",
       "      <td>36.771496</td>\n",
       "      <td>43.671792</td>\n",
       "      <td>36.860889</td>\n",
       "      <td>24.732236</td>\n",
       "      <td>23.607823</td>\n",
       "      <td>23.288260</td>\n",
       "      <td>7.520642</td>\n",
       "      <td>17.636528</td>\n",
       "      <td>20.220791</td>\n",
       "      <td>...</td>\n",
       "      <td>1.763397</td>\n",
       "      <td>1.285942</td>\n",
       "      <td>2.437923</td>\n",
       "      <td>2.130979</td>\n",
       "      <td>1.727413</td>\n",
       "      <td>1.710518</td>\n",
       "      <td>2.574734</td>\n",
       "      <td>2.533354</td>\n",
       "      <td>5.596057</td>\n",
       "      <td>0</td>\n",
       "    </tr>\n",
       "    <tr>\n",
       "      <th>941</th>\n",
       "      <td>18.986856</td>\n",
       "      <td>19.401387</td>\n",
       "      <td>27.586436</td>\n",
       "      <td>20.194732</td>\n",
       "      <td>19.407491</td>\n",
       "      <td>20.216570</td>\n",
       "      <td>16.465027</td>\n",
       "      <td>13.178851</td>\n",
       "      <td>12.687296</td>\n",
       "      <td>20.257619</td>\n",
       "      <td>...</td>\n",
       "      <td>2.685138</td>\n",
       "      <td>2.648595</td>\n",
       "      <td>2.559590</td>\n",
       "      <td>3.054965</td>\n",
       "      <td>3.163359</td>\n",
       "      <td>3.247100</td>\n",
       "      <td>2.646515</td>\n",
       "      <td>3.385173</td>\n",
       "      <td>3.085049</td>\n",
       "      <td>0</td>\n",
       "    </tr>\n",
       "    <tr>\n",
       "      <th>942</th>\n",
       "      <td>28.781317</td>\n",
       "      <td>32.369230</td>\n",
       "      <td>11.717778</td>\n",
       "      <td>23.134370</td>\n",
       "      <td>26.209302</td>\n",
       "      <td>25.484497</td>\n",
       "      <td>22.586688</td>\n",
       "      <td>11.368466</td>\n",
       "      <td>21.799254</td>\n",
       "      <td>36.083181</td>\n",
       "      <td>...</td>\n",
       "      <td>2.434620</td>\n",
       "      <td>1.501337</td>\n",
       "      <td>0.840513</td>\n",
       "      <td>1.733498</td>\n",
       "      <td>1.610465</td>\n",
       "      <td>1.644675</td>\n",
       "      <td>1.216763</td>\n",
       "      <td>1.614421</td>\n",
       "      <td>1.164097</td>\n",
       "      <td>0</td>\n",
       "    </tr>\n",
       "    <tr>\n",
       "      <th>943</th>\n",
       "      <td>19.929100</td>\n",
       "      <td>25.196375</td>\n",
       "      <td>14.445391</td>\n",
       "      <td>16.453456</td>\n",
       "      <td>16.590649</td>\n",
       "      <td>16.007279</td>\n",
       "      <td>18.909188</td>\n",
       "      <td>13.438102</td>\n",
       "      <td>17.442777</td>\n",
       "      <td>18.859586</td>\n",
       "      <td>...</td>\n",
       "      <td>1.678465</td>\n",
       "      <td>3.655796</td>\n",
       "      <td>1.429330</td>\n",
       "      <td>3.151128</td>\n",
       "      <td>1.630643</td>\n",
       "      <td>1.888551</td>\n",
       "      <td>1.447402</td>\n",
       "      <td>1.819110</td>\n",
       "      <td>1.302056</td>\n",
       "      <td>0</td>\n",
       "    </tr>\n",
       "    <tr>\n",
       "      <th>944</th>\n",
       "      <td>65.195346</td>\n",
       "      <td>69.241972</td>\n",
       "      <td>35.361363</td>\n",
       "      <td>28.089348</td>\n",
       "      <td>35.475808</td>\n",
       "      <td>36.804968</td>\n",
       "      <td>69.071230</td>\n",
       "      <td>6.905352</td>\n",
       "      <td>22.623165</td>\n",
       "      <td>31.587806</td>\n",
       "      <td>...</td>\n",
       "      <td>0.972956</td>\n",
       "      <td>2.340291</td>\n",
       "      <td>0.621251</td>\n",
       "      <td>0.750963</td>\n",
       "      <td>0.785956</td>\n",
       "      <td>0.785196</td>\n",
       "      <td>1.205448</td>\n",
       "      <td>1.711367</td>\n",
       "      <td>5.188920</td>\n",
       "      <td>0</td>\n",
       "    </tr>\n",
       "  </tbody>\n",
       "</table>\n",
       "<p>202 rows × 115 columns</p>\n",
       "</div>"
      ],
      "text/plain": [
       "     AB.A.delta.a.FP1  AB.A.delta.b.FP2  AB.A.delta.c.F7  AB.A.delta.d.F3  \\\n",
       "113         72.431249         69.386059        62.775437        69.193931   \n",
       "114         19.579138         19.703305        23.000027        31.034078   \n",
       "115         17.916294         22.911557        19.951421        16.835759   \n",
       "116         20.081892         17.928614        15.977752        18.119963   \n",
       "117         18.429434         26.156602        15.751990        21.654509   \n",
       "..                ...               ...              ...              ...   \n",
       "940         41.851823         36.771496        43.671792        36.860889   \n",
       "941         18.986856         19.401387        27.586436        20.194732   \n",
       "942         28.781317         32.369230        11.717778        23.134370   \n",
       "943         19.929100         25.196375        14.445391        16.453456   \n",
       "944         65.195346         69.241972        35.361363        28.089348   \n",
       "\n",
       "     AB.A.delta.e.Fz  AB.A.delta.f.F4  AB.A.delta.g.F8  AB.A.delta.h.T3  \\\n",
       "113        69.447900        69.042085        57.324333        41.658465   \n",
       "114        22.461115        23.616729        50.770251        14.458573   \n",
       "115        16.792161        16.887329        27.237218        10.324034   \n",
       "116        17.029861        13.545934        11.612536        13.578299   \n",
       "117        26.128217        26.002065        16.649180         7.972443   \n",
       "..               ...              ...              ...              ...   \n",
       "940        24.732236        23.607823        23.288260         7.520642   \n",
       "941        19.407491        20.216570        16.465027        13.178851   \n",
       "942        26.209302        25.484497        22.586688        11.368466   \n",
       "943        16.590649        16.007279        18.909188        13.438102   \n",
       "944        35.475808        36.804968        69.071230         6.905352   \n",
       "\n",
       "     AB.A.delta.i.C3  AB.A.delta.j.Cz  ...  AB.F.gamma.k.C4  AB.F.gamma.l.T4  \\\n",
       "113        55.851042        56.265661  ...         2.629897         1.921199   \n",
       "114        13.843582        19.761720  ...         3.053290         2.505505   \n",
       "115        16.298826        19.518705  ...         4.408061         4.432309   \n",
       "116        13.790407        14.739175  ...         0.938444         0.652126   \n",
       "117        24.789548        21.259534  ...         2.729161         2.882060   \n",
       "..               ...              ...  ...              ...              ...   \n",
       "940        17.636528        20.220791  ...         1.763397         1.285942   \n",
       "941        12.687296        20.257619  ...         2.685138         2.648595   \n",
       "942        21.799254        36.083181  ...         2.434620         1.501337   \n",
       "943        17.442777        18.859586  ...         1.678465         3.655796   \n",
       "944        22.623165        31.587806  ...         0.972956         2.340291   \n",
       "\n",
       "     AB.F.gamma.m.T5  AB.F.gamma.n.P3  AB.F.gamma.o.Pz  AB.F.gamma.p.P4  \\\n",
       "113         2.833677         3.291747         2.824944         2.820016   \n",
       "114         5.045257         4.101235         5.778042         3.676781   \n",
       "115         3.839380         4.121491         3.959794         4.245507   \n",
       "116         0.874891         0.800209         0.911272         0.823876   \n",
       "117         2.163485         2.393303         2.455410         2.517420   \n",
       "..               ...              ...              ...              ...   \n",
       "940         2.437923         2.130979         1.727413         1.710518   \n",
       "941         2.559590         3.054965         3.163359         3.247100   \n",
       "942         0.840513         1.733498         1.610465         1.644675   \n",
       "943         1.429330         3.151128         1.630643         1.888551   \n",
       "944         0.621251         0.750963         0.785956         0.785196   \n",
       "\n",
       "     AB.F.gamma.q.T6  AB.F.gamma.r.O1  AB.F.gamma.s.O2  label  \n",
       "113         2.248725         2.982932         2.940030      0  \n",
       "114         5.580233         6.530776         6.796860      0  \n",
       "115         4.349864         4.078656         3.722995      0  \n",
       "116         0.676607         0.654119         0.682812      0  \n",
       "117         2.242771         1.933288         2.269774      0  \n",
       "..               ...              ...              ...    ...  \n",
       "940         2.574734         2.533354         5.596057      0  \n",
       "941         2.646515         3.385173         3.085049      0  \n",
       "942         1.216763         1.614421         1.164097      0  \n",
       "943         1.447402         1.819110         1.302056      0  \n",
       "944         1.205448         1.711367         5.188920      0  \n",
       "\n",
       "[202 rows x 115 columns]"
      ]
     },
     "execution_count": 14,
     "metadata": {},
     "output_type": "execute_result"
    }
   ],
   "source": [
    "df"
   ]
  },
  {
   "cell_type": "markdown",
   "id": "8b6e9e10-30b8-4938-9f6c-6ac9cf2d351f",
   "metadata": {},
   "source": [
    "# ML Classification"
   ]
  },
  {
   "cell_type": "markdown",
   "id": "16c8785b-7a5e-4824-92e2-eb94c3fdd965",
   "metadata": {},
   "source": [
    "I will now use three types of supervised machine learning algorithms to attempt to classify the data: Logistic regression, Random Forest, and Support Vector Machines (SVM). For each algorithm, I will write a function to create one model that can be used with either control and panic disorder data or control and social anxiety data. Then, I will use `classification_report` to print the metrics used to evaluate the performance of each model."
   ]
  },
  {
   "cell_type": "markdown",
   "id": "c4011892-2e3f-4988-8a76-63a13a16e70b",
   "metadata": {},
   "source": [
    "### Logistic Regression"
   ]
  },
  {
   "cell_type": "code",
   "execution_count": 15,
   "id": "d0dc7b29-655b-4eac-b9ff-c06c1e9e167e",
   "metadata": {},
   "outputs": [],
   "source": [
    "def logistic_regression(category):\n",
    "    '''Use a Logistic Regression model to compare healthy control patients to one of the two anxiety disorders.\n",
    "    1 = Panic Disorder patients, 2 = Social Anxiety patients.'''\n",
    "    df_category = df[df['label'].isin([0, category])]\n",
    "    X = df_category.drop(columns=['label'])\n",
    "    X = np.log(X)\n",
    "    y = df_category['label']\n",
    "\n",
    "    # split data to train and test\n",
    "    # 80% training data and 20% testing\n",
    "    X_train, X_test, y_train, y_test = train_test_split(X, y, test_size=0.2, random_state=15, stratify=y)\n",
    "\n",
    "    # normalize data\n",
    "    scaling = MinMaxScaler()\n",
    "    X_train = scaling.fit_transform(X=X_train)\n",
    "    X_test = scaling.transform(X=X_test)\n",
    "\n",
    "    # logistic regression model\n",
    "    LR_model = LogisticRegression(class_weight='balanced')\n",
    "    LR_model.fit(X_train, y_train)\n",
    "\n",
    "    # make predictions\n",
    "    y_pred = LR_model.predict(X_test)\n",
    "\n",
    "    # print classification report\n",
    "    print(\"Classification Report:\\n\", classification_report(y_test, y_pred))"
   ]
  },
  {
   "cell_type": "markdown",
   "id": "3d8a9199-ab16-4e17-b3e2-25523d8de998",
   "metadata": {},
   "source": [
    "#### Panic vs. Healthy Patients (Logistic Regression)"
   ]
  },
  {
   "cell_type": "code",
   "execution_count": 16,
   "id": "b8ec453b-4c23-493a-a4d7-241b01df3874",
   "metadata": {},
   "outputs": [
    {
     "name": "stdout",
     "output_type": "stream",
     "text": [
      "Classification Report:\n",
      "               precision    recall  f1-score   support\n",
      "\n",
      "           0       0.87      0.68      0.76        19\n",
      "           1       0.62      0.83      0.71        12\n",
      "\n",
      "    accuracy                           0.74        31\n",
      "   macro avg       0.75      0.76      0.74        31\n",
      "weighted avg       0.77      0.74      0.75        31\n",
      "\n",
      "None\n"
     ]
    }
   ],
   "source": [
    "print(logistic_regression(1))"
   ]
  },
  {
   "cell_type": "markdown",
   "id": "eaf4fea5-ca3a-4e54-a0cd-e6b14ed9c0bf",
   "metadata": {},
   "source": [
    "#### Social Anxiety vs. Healthy Patients (Logistic Regression)"
   ]
  },
  {
   "cell_type": "code",
   "execution_count": 17,
   "id": "c01061b1-5829-4981-ac36-ac7f06d3db2b",
   "metadata": {},
   "outputs": [
    {
     "name": "stdout",
     "output_type": "stream",
     "text": [
      "Classification Report:\n",
      "               precision    recall  f1-score   support\n",
      "\n",
      "           0       0.82      0.47      0.60        19\n",
      "           2       0.44      0.80      0.57        10\n",
      "\n",
      "    accuracy                           0.59        29\n",
      "   macro avg       0.63      0.64      0.59        29\n",
      "weighted avg       0.69      0.59      0.59        29\n",
      "\n",
      "None\n"
     ]
    }
   ],
   "source": [
    "print(logistic_regression(2))"
   ]
  },
  {
   "cell_type": "markdown",
   "id": "b285c4a6-afb5-4fcd-8545-7e511a1828d2",
   "metadata": {},
   "source": [
    "### Random Forest"
   ]
  },
  {
   "cell_type": "code",
   "execution_count": 18,
   "id": "d6a68a91-6816-49a0-85b3-701a54853398",
   "metadata": {},
   "outputs": [],
   "source": [
    "def random_forest(category):\n",
    "    '''Use a Random Forest model to compare healthy control patients to one of the two anxiety disorders.\n",
    "    1 = Panic Disorder patients, 2 = Social Anxiety patients.'''\n",
    "    df_category = df[df['label'].isin([0, category])]\n",
    "    X = df_category.drop(columns=['label'])\n",
    "    X = np.log(X)\n",
    "    y = df_category['label']\n",
    "\n",
    "    # split data to train and test\n",
    "    # 80% training data and 20% testing\n",
    "    X_train, X_test, y_train, y_test = train_test_split(X, y, test_size=0.2, random_state=15, stratify=y)\n",
    "\n",
    "    # normalize data\n",
    "    scaling = MinMaxScaler()\n",
    "    X_train = scaling.fit_transform(X=X_train)\n",
    "    X_test = scaling.transform(X=X_test)\n",
    "\n",
    "    # random forest model\n",
    "    RF_model = RandomForestClassifier(random_state=15)\n",
    "    RF_model.fit(X_train, y_train)\n",
    "\n",
    "    # make predictions\n",
    "    y_pred = RF_model.predict(X_test)\n",
    "\n",
    "    # print classification report\n",
    "    print(\"Classification Report:\\n\", classification_report(y_test, y_pred))"
   ]
  },
  {
   "cell_type": "markdown",
   "id": "1f664418-7125-40b2-b797-79d3ac00ecd0",
   "metadata": {},
   "source": [
    "#### Panic Disorder vs. Control (Random Forest)"
   ]
  },
  {
   "cell_type": "code",
   "execution_count": 19,
   "id": "a3749d7f-5b66-4e88-b195-94236e997368",
   "metadata": {},
   "outputs": [
    {
     "name": "stdout",
     "output_type": "stream",
     "text": [
      "Classification Report:\n",
      "               precision    recall  f1-score   support\n",
      "\n",
      "           0       0.65      0.68      0.67        19\n",
      "           1       0.45      0.42      0.43        12\n",
      "\n",
      "    accuracy                           0.58        31\n",
      "   macro avg       0.55      0.55      0.55        31\n",
      "weighted avg       0.57      0.58      0.58        31\n",
      "\n",
      "None\n"
     ]
    }
   ],
   "source": [
    "print(random_forest(1))"
   ]
  },
  {
   "cell_type": "markdown",
   "id": "5a7a67f1-a0d0-4757-8dab-cf51467fef7c",
   "metadata": {},
   "source": [
    "#### Social Anxiety Disorder vs. Control (Random Forest)"
   ]
  },
  {
   "cell_type": "code",
   "execution_count": 20,
   "id": "40b158b3-3261-4b61-bc59-e2959e1aa839",
   "metadata": {},
   "outputs": [
    {
     "name": "stdout",
     "output_type": "stream",
     "text": [
      "Classification Report:\n",
      "               precision    recall  f1-score   support\n",
      "\n",
      "           0       0.75      0.79      0.77        19\n",
      "           2       0.56      0.50      0.53        10\n",
      "\n",
      "    accuracy                           0.69        29\n",
      "   macro avg       0.65      0.64      0.65        29\n",
      "weighted avg       0.68      0.69      0.69        29\n",
      "\n",
      "None\n"
     ]
    }
   ],
   "source": [
    "print(random_forest(2))"
   ]
  },
  {
   "cell_type": "markdown",
   "id": "fb3f828e-5146-4e47-aebc-48b7f3799632",
   "metadata": {},
   "source": [
    "### Support Vector Machine (SVM)"
   ]
  },
  {
   "cell_type": "code",
   "execution_count": 21,
   "id": "b7f31209-2f3c-4766-aed9-2d518b705d69",
   "metadata": {},
   "outputs": [],
   "source": [
    "def SVM(category):\n",
    "    '''Use a SVM model to compare healthy control patients to one of the two anxiety disorders.\n",
    "    1 = Panic Disorder patients, 2 = Social Anxiety patients.'''\n",
    "    df_category = df[df['label'].isin([0, category])]\n",
    "    X = df_category.drop(columns=['label'])\n",
    "    X = np.log(X)\n",
    "    y = df_category['label']\n",
    "\n",
    "    # split data to train and test\n",
    "    # 80% training data and 20% testing\n",
    "    X_train, X_test, y_train, y_test = train_test_split(X, y, test_size=0.2, random_state=15, stratify=y)\n",
    "\n",
    "    # normalize data\n",
    "    scaling = MinMaxScaler()\n",
    "    X_train = scaling.fit_transform(X=X_train)\n",
    "    X_test = scaling.transform(X=X_test)\n",
    "\n",
    "    # SVM model\n",
    "    SVM_model = SVC(kernel='linear', random_state=15)\n",
    "    SVM_model.fit(X_train, y_train)\n",
    "\n",
    "    # make predictions\n",
    "    y_pred = SVM_model.predict(X_test)\n",
    "\n",
    "    # print classification report\n",
    "    print(\"Classification Report:\\n\", classification_report(y_test, y_pred))"
   ]
  },
  {
   "cell_type": "markdown",
   "id": "077b7180-08e1-4fd9-bff7-d4f7e93c0c80",
   "metadata": {},
   "source": [
    "#### Panic Disorder vs. Control (SVM)"
   ]
  },
  {
   "cell_type": "code",
   "execution_count": 22,
   "id": "31a838b7-c8ee-478e-bd8c-acc8b76bd068",
   "metadata": {},
   "outputs": [
    {
     "name": "stdout",
     "output_type": "stream",
     "text": [
      "Classification Report:\n",
      "               precision    recall  f1-score   support\n",
      "\n",
      "           0       0.76      0.84      0.80        19\n",
      "           1       0.70      0.58      0.64        12\n",
      "\n",
      "    accuracy                           0.74        31\n",
      "   macro avg       0.73      0.71      0.72        31\n",
      "weighted avg       0.74      0.74      0.74        31\n",
      "\n",
      "None\n"
     ]
    }
   ],
   "source": [
    "print(SVM(1))"
   ]
  },
  {
   "cell_type": "markdown",
   "id": "800b8fa6-11c5-49aa-a6f4-b01300d24116",
   "metadata": {},
   "source": [
    "#### Social Anxiety vs. Control (SVM)"
   ]
  },
  {
   "cell_type": "code",
   "execution_count": 23,
   "id": "ce29094b-d190-46b0-b422-2afe5ddf7bf8",
   "metadata": {},
   "outputs": [
    {
     "name": "stdout",
     "output_type": "stream",
     "text": [
      "Classification Report:\n",
      "               precision    recall  f1-score   support\n",
      "\n",
      "           0       0.83      0.79      0.81        19\n",
      "           2       0.64      0.70      0.67        10\n",
      "\n",
      "    accuracy                           0.76        29\n",
      "   macro avg       0.73      0.74      0.74        29\n",
      "weighted avg       0.77      0.76      0.76        29\n",
      "\n",
      "None\n"
     ]
    }
   ],
   "source": [
    "print(SVM(2))"
   ]
  },
  {
   "cell_type": "markdown",
   "id": "7964a937-70f0-4174-bd11-37827e11d567",
   "metadata": {},
   "source": [
    "# Results"
   ]
  },
  {
   "cell_type": "markdown",
   "id": "a7fb883e-e35a-4080-94a7-97cdb4d393d8",
   "metadata": {},
   "source": [
    "Overall, the Logistic regression and SVM models show the best performance in classifying panic disorder patients or social anxiety patients against control patients. F1-scores reported using the first trial of logistic regression were 0.76 for controls and 0.71 for panic disorder patients, and the second trial reported F1 scores of 0.60 for controls and 0.57 for social anxiety patients. SVM showed similar results, with F1-scores of 0.8 and 0.64 for control and panic disorder patients, respectively, and then 0.81 and 0.67 for control and social anxiety patients, again, respectively.\n",
    "\n",
    "However, there are significant limitations in the analysis. Due to the small size of the dataset, these results cannot be seen as fully accurate. Cross-validation and hyperparameter tuning could have been further done to improve the performance of the models and ensure reliability. Overall, my results reported lower performance than the original paper in which the dataset was sourced, although this is to be expected."
   ]
  }
 ],
 "metadata": {
  "kernelspec": {
   "display_name": "Python 3 (ipykernel)",
   "language": "python",
   "name": "python3"
  },
  "language_info": {
   "codemirror_mode": {
    "name": "ipython",
    "version": 3
   },
   "file_extension": ".py",
   "mimetype": "text/x-python",
   "name": "python",
   "nbconvert_exporter": "python",
   "pygments_lexer": "ipython3",
   "version": "3.11.9"
  }
 },
 "nbformat": 4,
 "nbformat_minor": 5
}
